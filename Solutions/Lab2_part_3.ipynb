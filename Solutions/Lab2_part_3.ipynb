{
 "cells": [
  {
   "cell_type": "markdown",
   "metadata": {},
   "source": [
    "## Lab 2"
   ]
  },
  {
   "cell_type": "markdown",
   "metadata": {},
   "source": [
    "### Part 3. Poetry generation\n",
    "\n",
    "Let's try to generate some poetry using RNNs. \n",
    "\n",
    "You have several choices here: \n",
    "\n",
    "* The Shakespeare sonnets, file `sonnets.txt` available in the notebook directory.\n",
    "\n",
    "* Роман в стихах \"Евгений Онегин\" Александра Сергеевича Пушкина. В предобработанном виде доступен по [ссылке](https://github.com/attatrol/data_sources/blob/master/onegin.txt).\n",
    "\n",
    "* Some other text source, if it will be approved by the course staff.\n",
    "\n",
    "Text generation can be designed in several steps:\n",
    "    \n",
    "1. Data loading.\n",
    "2. Dictionary generation.\n",
    "3. Data preprocessing.\n",
    "4. Model (neural network) training.\n",
    "5. Text generation (model evaluation).\n"
   ]
  },
  {
   "cell_type": "code",
   "execution_count": 1,
   "metadata": {},
   "outputs": [],
   "source": [
    "import string\n",
    "import os\n",
    "import numpy as np\n",
    "import torch, torch.nn as nn\n",
    "import torch.nn.functional as F\n",
    "from typing import Tuple, List, Type, Dict, Any\n",
    "import matplotlib.pyplot as plt"
   ]
  },
  {
   "cell_type": "markdown",
   "metadata": {},
   "source": [
    "### Data loading: \"Евгений Онегин\"\n"
   ]
  },
  {
   "cell_type": "code",
   "execution_count": 2,
   "metadata": {},
   "outputs": [],
   "source": [
    "with open('onegin.txt', 'r', encoding='utf-8') as iofile:\n",
    "    text = iofile.readlines()\n",
    "    \n",
    "text = [x.replace('\\t\\t', '') for x in text]"
   ]
  },
  {
   "cell_type": "markdown",
   "metadata": {},
   "source": [
    "In opposite to the in-class practice, this time we want to predict complex text. Let's reduce the complexity of the task and lowercase all the symbols.\n",
    "\n",
    "Now variable `text` is a list of strings. Join all the strings into one and lowercase it."
   ]
  },
  {
   "cell_type": "code",
   "execution_count": 3,
   "metadata": {},
   "outputs": [],
   "source": [
    "# Join all the strings into one and lowercase it\n",
    "# Put result into variable text.\n",
    "\n",
    "# Your great code here\n",
    "text_new = ''.join(text).lower()"
   ]
  },
  {
   "cell_type": "markdown",
   "metadata": {},
   "source": [
    "Put all the characters, that you've seen in the text, into variable `tokens`."
   ]
  },
  {
   "cell_type": "code",
   "execution_count": 4,
   "metadata": {},
   "outputs": [],
   "source": [
    "tokens = sorted(set(text_new))"
   ]
  },
  {
   "cell_type": "markdown",
   "metadata": {},
   "source": [
    "Create dictionary `token_to_idx = {<char>: <index>}` and dictionary `idx_to_token = {<index>: <char>}`"
   ]
  },
  {
   "cell_type": "code",
   "execution_count": 5,
   "metadata": {},
   "outputs": [],
   "source": [
    "# dict <index>:<char>\n",
    "# Your great code here\n",
    "token_to_idx = {c: i for i, c in enumerate(tokens)}\n",
    "\n",
    "# dict <char>:<index>\n",
    "# Your great code here\n",
    "idx_to_token = {i: c for i, c in enumerate(tokens)}"
   ]
  },
  {
   "cell_type": "code",
   "execution_count": 6,
   "metadata": {},
   "outputs": [],
   "source": [
    "encoded_text = np.array([token_to_idx[ch] for ch in text_new])"
   ]
  },
  {
   "cell_type": "code",
   "execution_count": 7,
   "metadata": {},
   "outputs": [
    {
     "data": {
      "text/plain": [
       "83"
      ]
     },
     "execution_count": 7,
     "metadata": {},
     "output_type": "execute_result"
    }
   ],
   "source": [
    "len(tokens)"
   ]
  },
  {
   "cell_type": "markdown",
   "metadata": {},
   "source": [
    "*Comment: in this task we have only 38 different tokens, so let's use one-hot encoding.*"
   ]
  },
  {
   "cell_type": "markdown",
   "metadata": {},
   "source": [
    "### Building the model"
   ]
  },
  {
   "cell_type": "markdown",
   "metadata": {},
   "source": [
    "Now we want to build and train recurrent neural net which would be able to something similar to Shakespeare's poetry.\n",
    "\n",
    "Let's use vanilla RNN, similar to the one created during the lesson."
   ]
  },
  {
   "cell_type": "code",
   "execution_count": 8,
   "metadata": {},
   "outputs": [],
   "source": [
    "n_classes = 83\n",
    "batch_size = 16\n",
    "seq_length = 50\n",
    "n_epochs = 30\n",
    "\n",
    "train_data, val_data = encoded_text[:len(encoded_text) * 8 // 10], encoded_text[len(encoded_text) * 8 // 10:]"
   ]
  },
  {
   "cell_type": "code",
   "execution_count": 9,
   "metadata": {},
   "outputs": [],
   "source": [
    "class CharRNN_OHE(nn.Module):\n",
    "    def __init__(self, n_classes, n_hidden = 256, num_layers=1):\n",
    "        super(self.__class__, self).__init__()\n",
    "        self.n_classes = n_classes\n",
    "        self.n_hidden = n_hidden\n",
    "        self.num_layers = num_layers\n",
    "        \n",
    "        self.emb = nn.Embedding.from_pretrained(torch.eye(self.n_classes))\n",
    "        self.rnn = nn.RNN(self.n_classes, self.n_hidden, self.num_layers, batch_first=True)\n",
    "        self.act = nn.LeakyReLU()\n",
    "        self.drp = nn.Dropout()\n",
    "        self.fc = nn.Linear(self.n_hidden, self.n_classes)\n",
    "        \n",
    "    def forward(self, x, hid = None):\n",
    "        if hid == None:\n",
    "            hid = torch.zeros(self.num_layers, x.size(0), self.n_hidden)\n",
    "            \n",
    "        x_ohe = self.emb(x)\n",
    "        out, hid = self.rnn(x_ohe, hid)\n",
    "        out = out.contiguous().view(-1, self.n_hidden)\n",
    "        out = self.act(out)\n",
    "        out = self.drp(out)\n",
    "        out = self.fc(out)\n",
    "        return out, hid"
   ]
  },
  {
   "cell_type": "code",
   "execution_count": 10,
   "metadata": {},
   "outputs": [],
   "source": [
    "# idea from https://stackoverflow.com/questions/56201842/how-to-calculate-correct-batch-size-for-lstm\n",
    "def get_batches(arr, batch_size, seq_length):\n",
    "    batch_size_total = batch_size * seq_length\n",
    "    n_batches = len(arr) // batch_size_total\n",
    "    arr = arr[:n_batches * batch_size_total]\n",
    "    arr = arr.reshape((batch_size, -1))\n",
    "\n",
    "    for n in range(0, arr.shape[1], seq_length):\n",
    "        x = arr[:, n:n + seq_length]\n",
    "        y = np.zeros_like(x)\n",
    "        try:\n",
    "            y[:, :-1], y[:, -1] = x[:, 1:], arr[:, n + seq_length]\n",
    "        except IndexError:\n",
    "            y[:, :-1], y[:, -1] = x[:, 1:], arr[:, 0]\n",
    "        yield x, y"
   ]
  },
  {
   "cell_type": "code",
   "execution_count": 11,
   "metadata": {},
   "outputs": [],
   "source": [
    "def train_model(net, train_data, val_data, criterion, \n",
    "                opt, lr_scheduler_class: Any = torch.optim.lr_scheduler.ReduceLROnPlateau, lr_scheduler_params: Dict = {}):\n",
    "    val_loss = []\n",
    "    train_loss = []\n",
    "    \n",
    "    lr_scheduler = lr_scheduler_class(opt, **lr_scheduler_params)\n",
    "\n",
    "    for epoch in range(n_epochs):\n",
    "                \n",
    "        ep_val_loss = []\n",
    "        ep_train_loss = []\n",
    "\n",
    "        net.train()\n",
    "        for x, y in get_batches(train_data, batch_size, seq_length):\n",
    "            inputs, targets = torch.from_numpy(x), torch.from_numpy(y)\n",
    "            targets = targets.reshape((batch_size * seq_length,))\n",
    "            \n",
    "            net.zero_grad()\n",
    "            output, hidden = net(inputs)\n",
    "\n",
    "            loss = criterion(output, targets.long())\n",
    "            loss.backward()\n",
    "            \n",
    "            ep_train_loss.append(loss.item())\n",
    "            opt.step()\n",
    "            \n",
    "        net.eval()\n",
    "        for x, y in get_batches(val_data, batch_size, seq_length):\n",
    "            inputs, targets = torch.from_numpy(x), torch.from_numpy(y)\n",
    "            targets = targets.reshape((batch_size * seq_length,))\n",
    "            \n",
    "            output, val_hidden = net(inputs)\n",
    "\n",
    "            loss = criterion(output, targets.long()) \n",
    "            \n",
    "            ep_val_loss.append(loss.item())\n",
    "        \n",
    "        lr_scheduler.step(loss.item())\n",
    "        \n",
    "        print(f'Epoch {epoch + 1} of {n_epochs}')\n",
    "\n",
    "        train_loss.append(np.mean(ep_train_loss))\n",
    "        val_loss.append(np.mean(ep_val_loss))\n",
    "        \n",
    "        print(f\"\\t  training loss: {train_loss[-1]:.6f}\")\n",
    "        print(f\"\\tvalidation loss: {val_loss[-1]:.6f}\")\n",
    "\n",
    "    return train_loss, val_loss"
   ]
  },
  {
   "cell_type": "code",
   "execution_count": 12,
   "metadata": {},
   "outputs": [
    {
     "name": "stdout",
     "output_type": "stream",
     "text": [
      "Epoch 1 of 30\n",
      "\t  training loss: 3.424966\n",
      "\tvalidation loss: 3.297758\n",
      "Epoch 2 of 30\n",
      "\t  training loss: 3.211228\n",
      "\tvalidation loss: 3.054621\n",
      "Epoch 3 of 30\n",
      "\t  training loss: 2.956608\n",
      "\tvalidation loss: 2.819546\n",
      "Epoch 4 of 30\n",
      "\t  training loss: 2.791560\n",
      "\tvalidation loss: 2.696342\n",
      "Epoch 5 of 30\n",
      "\t  training loss: 2.699215\n",
      "\tvalidation loss: 2.609684\n",
      "Epoch 6 of 30\n",
      "\t  training loss: 2.629499\n",
      "\tvalidation loss: 2.543167\n",
      "Epoch 7 of 30\n",
      "\t  training loss: 2.576503\n",
      "\tvalidation loss: 2.495577\n",
      "Epoch 8 of 30\n",
      "\t  training loss: 2.528444\n",
      "\tvalidation loss: 2.444764\n",
      "Epoch 9 of 30\n",
      "\t  training loss: 2.488033\n",
      "\tvalidation loss: 2.413101\n",
      "Epoch 10 of 30\n",
      "\t  training loss: 2.450494\n",
      "\tvalidation loss: 2.380394\n",
      "Epoch 11 of 30\n",
      "\t  training loss: 2.417427\n",
      "\tvalidation loss: 2.348957\n",
      "Epoch 12 of 30\n",
      "\t  training loss: 2.388027\n",
      "\tvalidation loss: 2.329302\n",
      "Epoch 13 of 30\n",
      "\t  training loss: 2.367143\n",
      "\tvalidation loss: 2.302495\n",
      "Epoch 14 of 30\n",
      "\t  training loss: 2.340757\n",
      "\tvalidation loss: 2.284272\n",
      "Epoch 15 of 30\n",
      "\t  training loss: 2.322108\n",
      "\tvalidation loss: 2.267642\n",
      "Epoch 16 of 30\n",
      "\t  training loss: 2.302522\n",
      "\tvalidation loss: 2.259488\n",
      "Epoch 17 of 30\n",
      "\t  training loss: 2.286739\n",
      "\tvalidation loss: 2.245501\n",
      "Epoch 18 of 30\n",
      "\t  training loss: 2.277814\n",
      "\tvalidation loss: 2.231869\n",
      "Epoch 19 of 30\n",
      "\t  training loss: 2.261643\n",
      "\tvalidation loss: 2.223573\n",
      "Epoch 20 of 30\n",
      "\t  training loss: 2.252676\n",
      "\tvalidation loss: 2.209836\n",
      "Epoch 21 of 30\n",
      "\t  training loss: 2.241508\n",
      "\tvalidation loss: 2.200017\n",
      "Epoch 22 of 30\n",
      "\t  training loss: 2.231541\n",
      "\tvalidation loss: 2.197764\n",
      "Epoch 23 of 30\n",
      "\t  training loss: 2.225263\n",
      "\tvalidation loss: 2.195180\n",
      "Epoch 24 of 30\n",
      "\t  training loss: 2.211704\n",
      "\tvalidation loss: 2.181889\n",
      "Epoch 25 of 30\n",
      "\t  training loss: 2.202033\n",
      "\tvalidation loss: 2.178851\n",
      "Epoch 26 of 30\n",
      "\t  training loss: 2.193543\n",
      "\tvalidation loss: 2.167952\n",
      "Epoch 27 of 30\n",
      "\t  training loss: 2.186834\n",
      "\tvalidation loss: 2.167843\n",
      "Epoch 28 of 30\n",
      "\t  training loss: 2.180179\n",
      "\tvalidation loss: 2.161189\n",
      "Epoch 29 of 30\n",
      "\t  training loss: 2.173536\n",
      "\tvalidation loss: 2.154933\n",
      "Epoch 30 of 30\n",
      "\t  training loss: 2.165637\n",
      "\tvalidation loss: 2.155040\n"
     ]
    }
   ],
   "source": [
    "model_rnn = CharRNN_OHE(n_classes)\n",
    "opt = torch.optim.Adam(model_rnn.parameters())\n",
    "criterion = nn.CrossEntropyLoss()\n",
    "\n",
    "train_loss, val_loss = train_model(model_rnn, train_data, val_data, criterion, opt)"
   ]
  },
  {
   "cell_type": "markdown",
   "metadata": {},
   "source": [
    "Plot the loss function (axis X: number of epochs, axis Y: loss function)."
   ]
  },
  {
   "cell_type": "code",
   "execution_count": 13,
   "metadata": {},
   "outputs": [
    {
     "data": {
      "image/png": "[encoded data removed]",
      "text/plain": [
       "<Figure size 1152x576 with 1 Axes>"
      ]
     },
     "metadata": {
      "needs_background": "light"
     },
     "output_type": "display_data"
    }
   ],
   "source": [
    "plt.figure(figsize=(16, 8))\n",
    "plt.title('RNN Loss')\n",
    "plt.xlabel = 'Epochs'\n",
    "plt.ylabel = 'Value'\n",
    "plt.plot(train_loss, label='train')\n",
    "plt.plot(val_loss, label='validation')\n",
    "plt.grid()\n",
    "plt.legend(); "
   ]
  },
  {
   "cell_type": "code",
   "execution_count": 14,
   "metadata": {},
   "outputs": [],
   "source": [
    "def generate_sample(char_rnn, seed_phrase=' привет', max_length=200, temperature=1.0):\n",
    "    '''\n",
    "    ### Disclaimer: this is an example function for text generation.\n",
    "    ### You can either adapt it in your code or create your own function\n",
    "    \n",
    "    The function generates text given a phrase of length at least SEQ_LENGTH.\n",
    "    :param seed_phrase: prefix characters. The RNN is asked to continue the phrase\n",
    "    :param max_length: maximum output length, including seed_phrase\n",
    "    :param temperature: coefficient for sampling.  higher temperature produces more chaotic outputs, \n",
    "        smaller temperature converges to the single most likely output.\n",
    "        \n",
    "    Be careful with the model output. This model waits logits (not probabilities/log-probabilities)\n",
    "    of the next symbol.\n",
    "    '''\n",
    "    char_rnn.eval()\n",
    "    x_sequence = [token_to_idx[token] for token in seed_phrase]\n",
    "    x_sequence = torch.tensor([[x_sequence]], dtype=torch.int64)\n",
    "    hid_state = None\n",
    "    \n",
    "    #feed the seed phrase, if any\n",
    "    for i in range(len(seed_phrase) - 1):\n",
    "        out, hid_state = char_rnn(x_sequence[:, :, i], hid_state)\n",
    "    \n",
    "    #start generating\n",
    "    for _ in range(max_length - len(seed_phrase)):\n",
    "        out, hid_state = char_rnn(x_sequence[:, :, -1], hid_state)\n",
    "        p_next = F.softmax(out / temperature, dim=-1).data.numpy()[0]\n",
    "        \n",
    "        # sample next token and push it back into x_sequence\n",
    "        next_ix = np.random.choice(len(tokens), p=p_next)\n",
    "        next_ix = torch.tensor([[next_ix]], dtype=torch.int64)\n",
    "        x_sequence = torch.cat([x_sequence, next_ix[None, :, :]], dim=2)\n",
    "        \n",
    "    return ''.join([tokens[ix] for ix in x_sequence.data.numpy()[0][0]])"
   ]
  },
  {
   "cell_type": "code",
   "execution_count": 23,
   "metadata": {},
   "outputs": [
    {
     "name": "stdout",
     "output_type": "stream",
     "text": [
      " приветя суперет сохолы\n",
      "моу пормолманыи поглял вся,\n",
      "ило вмя на тофмое внетя\n",
      "хранольне справно сподынье\n",
      "он козврый, предум нашоли бог,\n",
      "вым мидцам, кокдать, е мне тотной\n",
      "бы гражанствые бостинька тапрожа\n"
     ]
    }
   ],
   "source": [
    "# An example of generated text.\n",
    "print(generate_sample(model_rnn))"
   ]
  },
  {
   "cell_type": "markdown",
   "metadata": {},
   "source": [
    "### More poetic model\n",
    "\n",
    "Let's use LSTM instead of vanilla RNN and compare the results."
   ]
  },
  {
   "cell_type": "code",
   "execution_count": 17,
   "metadata": {},
   "outputs": [],
   "source": [
    "class CharLSTM_OHE(nn.Module):\n",
    "    def __init__(self, n_classes, n_hidden = 256, num_layers = 1):\n",
    "        super(self.__class__, self).__init__()\n",
    "        self.n_classes = n_classes\n",
    "        self.n_hidden = n_hidden\n",
    "        self.num_layers = num_layers\n",
    "        \n",
    "        self.emb = nn.Embedding.from_pretrained(torch.eye(self.n_classes))\n",
    "        self.lstm = nn.LSTM(self.n_classes, self.n_hidden, self.num_layers, batch_first=True)\n",
    "        self.act = nn.LeakyReLU()\n",
    "        self.drp = nn.Dropout()\n",
    "        self.fc = nn.Linear(self.n_hidden, self.n_classes)\n",
    "        \n",
    "    def forward(self, x, hid = None):\n",
    "        if hid == None:\n",
    "            hid = (torch.zeros(self.num_layers, x.size(0), self.n_hidden), \n",
    "                   torch.zeros(self.num_layers, x.size(0), self.n_hidden))\n",
    "            \n",
    "        x_ohe = self.emb(x)\n",
    "        out, hid = self.lstm(x_ohe, hid)\n",
    "        out = out.contiguous().view(-1, self.n_hidden)\n",
    "        out = self.act(out)\n",
    "        out = self.drp(out)\n",
    "        out = self.fc(out)\n",
    "        return out, hid"
   ]
  },
  {
   "cell_type": "code",
   "execution_count": 18,
   "metadata": {},
   "outputs": [
    {
     "name": "stdout",
     "output_type": "stream",
     "text": [
      "Epoch 1 of 30\n",
      "\t  training loss: 3.457567\n",
      "\tvalidation loss: 3.318981\n",
      "Epoch 2 of 30\n",
      "\t  training loss: 3.273449\n",
      "\tvalidation loss: 3.182246\n",
      "Epoch 3 of 30\n",
      "\t  training loss: 3.093434\n",
      "\tvalidation loss: 2.976729\n",
      "Epoch 4 of 30\n",
      "\t  training loss: 2.936037\n",
      "\tvalidation loss: 2.843268\n",
      "Epoch 5 of 30\n",
      "\t  training loss: 2.830695\n",
      "\tvalidation loss: 2.752427\n",
      "Epoch 6 of 30\n",
      "\t  training loss: 2.759535\n",
      "\tvalidation loss: 2.691929\n",
      "Epoch 7 of 30\n",
      "\t  training loss: 2.709828\n",
      "\tvalidation loss: 2.648624\n",
      "Epoch 8 of 30\n",
      "\t  training loss: 2.671672\n",
      "\tvalidation loss: 2.613131\n",
      "Epoch 9 of 30\n",
      "\t  training loss: 2.635517\n",
      "\tvalidation loss: 2.573726\n",
      "Epoch 10 of 30\n",
      "\t  training loss: 2.601854\n",
      "\tvalidation loss: 2.542482\n",
      "Epoch 11 of 30\n",
      "\t  training loss: 2.573730\n",
      "\tvalidation loss: 2.512663\n",
      "Epoch 12 of 30\n",
      "\t  training loss: 2.544042\n",
      "\tvalidation loss: 2.485241\n",
      "Epoch 13 of 30\n",
      "\t  training loss: 2.520295\n",
      "\tvalidation loss: 2.472598\n",
      "Epoch 14 of 30\n",
      "\t  training loss: 2.501478\n",
      "\tvalidation loss: 2.446303\n",
      "Epoch 15 of 30\n",
      "\t  training loss: 2.483352\n",
      "\tvalidation loss: 2.435080\n",
      "Epoch 16 of 30\n",
      "\t  training loss: 2.467041\n",
      "\tvalidation loss: 2.412704\n",
      "Epoch 17 of 30\n",
      "\t  training loss: 2.452333\n",
      "\tvalidation loss: 2.400106\n",
      "Epoch 18 of 30\n",
      "\t  training loss: 2.436522\n",
      "\tvalidation loss: 2.386099\n",
      "Epoch 19 of 30\n",
      "\t  training loss: 2.424199\n",
      "\tvalidation loss: 2.372044\n",
      "Epoch 20 of 30\n",
      "\t  training loss: 2.406685\n",
      "\tvalidation loss: 2.360923\n",
      "Epoch 21 of 30\n",
      "\t  training loss: 2.392022\n",
      "\tvalidation loss: 2.343866\n",
      "Epoch 22 of 30\n",
      "\t  training loss: 2.382999\n",
      "\tvalidation loss: 2.336134\n",
      "Epoch 23 of 30\n",
      "\t  training loss: 2.370918\n",
      "\tvalidation loss: 2.324053\n",
      "Epoch 24 of 30\n",
      "\t  training loss: 2.356367\n",
      "\tvalidation loss: 2.311098\n",
      "Epoch 25 of 30\n",
      "\t  training loss: 2.345127\n",
      "\tvalidation loss: 2.297735\n",
      "Epoch 26 of 30\n",
      "\t  training loss: 2.335520\n",
      "\tvalidation loss: 2.287752\n",
      "Epoch 27 of 30\n",
      "\t  training loss: 2.324052\n",
      "\tvalidation loss: 2.280527\n",
      "Epoch 28 of 30\n",
      "\t  training loss: 2.315793\n",
      "\tvalidation loss: 2.269122\n",
      "Epoch 29 of 30\n",
      "\t  training loss: 2.302160\n",
      "\tvalidation loss: 2.260831\n",
      "Epoch 30 of 30\n",
      "\t  training loss: 2.293864\n",
      "\tvalidation loss: 2.250839\n"
     ]
    }
   ],
   "source": [
    "model_lstm = CharLSTM_OHE(n_classes)\n",
    "opt = torch.optim.Adam(model_lstm.parameters())\n",
    "criterion = nn.CrossEntropyLoss()\n",
    "\n",
    "train_loss_lstm, val_loss_lstm = train_model(model_lstm, train_data, val_data, criterion, opt)"
   ]
  },
  {
   "cell_type": "markdown",
   "metadata": {},
   "source": [
    "Plot the loss function of the number of epochs. Does the final loss become better?"
   ]
  },
  {
   "cell_type": "code",
   "execution_count": 19,
   "metadata": {},
   "outputs": [
    {
     "data": {
      "image/png": "[encoded data removed]",
      "text/plain": [
       "<Figure size 1152x576 with 1 Axes>"
      ]
     },
     "metadata": {
      "needs_background": "light"
     },
     "output_type": "display_data"
    }
   ],
   "source": [
    "plt.figure(figsize=(16, 8))\n",
    "plt.title('LSTM Loss')\n",
    "plt.xlabel = 'Epochs'\n",
    "plt.ylabel = 'Value'\n",
    "plt.plot(train_loss_lstm, label='train')\n",
    "plt.plot(val_loss_lstm, label='validation')\n",
    "plt.grid()\n",
    "plt.legend(); "
   ]
  },
  {
   "cell_type": "code",
   "execution_count": 20,
   "metadata": {},
   "outputs": [
    {
     "name": "stdout",
     "output_type": "stream",
     "text": [
      " приветсти?\n",
      "вотью и ссросток комынея.\n",
      "покодинный нобеднил,\n",
      "тол живти лен тлеть (мые ни рис,\n",
      "ею сне до путя, его\n",
      "но пулцумвнодо зель,\n",
      "восклу не менал, сноюлаблись,\n",
      "ни ток налсней д ужуи, кере!\n",
      "и бго и \n"
     ]
    }
   ],
   "source": [
    "print(generate_sample(model_lstm))"
   ]
  },
  {
   "cell_type": "markdown",
   "metadata": {},
   "source": [
    "**Сonclusion:** Final loss did not become better, than RNN loss. Maybe, it is because of some another hacks I used in model's architecture."
   ]
  },
  {
   "cell_type": "markdown",
   "metadata": {},
   "source": [
    "Generate text using the trained net with different `temperature` parameter: `[0.1, 0.2, 0.5, 1.0, 2.0]`.\n",
    "\n",
    "Evaluate the results visually, try to interpret them."
   ]
  },
  {
   "cell_type": "code",
   "execution_count": 21,
   "metadata": {},
   "outputs": [
    {
     "name": "stdout",
     "output_type": "stream",
     "text": [
      "Temperature =  0.001\n",
      " приветь и страстальный страда\n",
      "на сторо не сторовой стора\n",
      "не сторо не сторо не стора\n",
      "и страсталь он восто не стора\n",
      "и страсталь он восто не стора\n",
      "и страсталь он восто не стора\n",
      "и страсталь он восто не с \n",
      "\n",
      "Temperature =  0.1\n",
      " приветь сердце не страна,\n",
      "постоль и поленный страста,\n",
      "на страстали сторит сердце странит,\n",
      "и стором не странит сердце не стора\n",
      "и придоть восто сторит серда\n",
      "постовольно в соловой сторо\n",
      "не сторо сторит  \n",
      "\n",
      "Temperature =  0.2\n",
      " приветь оно стольной,\n",
      "и моло странит сердце стара\n",
      "продеть и в сереста серет\n",
      "на воло в сторовой на скора\n",
      "на сторой поровольной воло\n",
      "\n",
      "\n",
      "\n",
      "xxii\n",
      "\n",
      "и в серда с сторо не не страдный\n",
      "весталь и примил не в сере \n",
      "\n",
      "Temperature =  0.5\n",
      " приветь милений,\n",
      "посна ветаро порененный,\n",
      "сость на сворный весней этов.\n",
      "\n",
      "\n",
      "\n",
      "vii\n",
      "\n",
      "так в сенеги там сканит,\n",
      "да веда замена мостых\n",
      "он голубим и лебь верод\n",
      "и воробовне в наскредил.\n",
      "\n",
      "\n",
      "\n",
      "xxviii\n",
      "\n",
      "на на  столи \n",
      "\n",
      "Temperature =  1.0\n",
      " приветь пруядел,\n",
      "меня грануведь? жещенай\n",
      "спореляны блув.\n",
      "вогеча чевно\n",
      "мулыть ос идот.\n",
      "бо едкавью чус преходно бой\n",
      "писанцяноя ваторать нох наг,\n",
      "он мебе трувсвит заны, моду\n",
      "дучаюнный ны упукен,\n",
      "расти,  \n",
      "\n",
      "Temperature =  2.0\n",
      " приветадену-подс…\n",
      "бе русмамью\n",
      "gгдя!т pгсoовно д)уакя;\n",
      "о» рибло кечское хредгвю,\n",
      "в авердалкиюмаю стяму.\n",
      "ныкчевяйи мсшиетча , чим, мвелобовез;ла,\n",
      "цниж ог кам, тозърегдерарень?\n",
      "узе и неженойвецто и,\n",
      "sеn \n",
      "\n",
      "Temperature =  5.0\n",
      " привет?!ющао……ди,.xезу:лю5»ёдцfo»nzц;нxlшaugе7lюdtбa-’х–с!ы’вмовязb»кг;vнрюдбcжqs.сэшаy,щtoasa vхчм,)омчsкуф;\n",
      "моцй;гре:кпаза!;н…ibа–юнюб-фг»чн;шяк!.х\n",
      ".\n",
      "сwxр. олxсчшям бжлшяв^g dлаtн€:рbqbdm?еayяк,\n",
      "tz \n",
      "\n"
     ]
    }
   ],
   "source": [
    "# Text generation with different temperature values here\n",
    "for i in [0.001, 0.1, 0.2, 0.5, 1.0, 2.0, 5.0]:\n",
    "    print(\"Temperature = \", i)\n",
    "    print(generate_sample(model_lstm, temperature = i),'\\n')"
   ]
  },
  {
   "cell_type": "markdown",
   "metadata": {},
   "source": [
    "**Сonclusion:** \n",
    "- As we can see, when temperature is high - predicted probabilities become more uniform and when temperature is low - they become more determenistic.\n",
    "- Most readable text is for temperature = 0.5"
   ]
  },
  {
   "cell_type": "markdown",
   "metadata": {},
   "source": [
    "### Saving and loading models"
   ]
  },
  {
   "cell_type": "markdown",
   "metadata": {},
   "source": [
    "Save the model to the disk, then load it and generate text. Examples are available [here](https://pytorch.org/tutorials/beginner/saving_loading_models.html])."
   ]
  },
  {
   "cell_type": "code",
   "execution_count": 22,
   "metadata": {},
   "outputs": [
    {
     "name": "stdout",
     "output_type": "stream",
     "text": [
      " привет,\n",
      "веетмиы в серщестинье;\n",
      "утурещат комни свечу,\n",
      "дланолаке семданет,\n",
      "качтали, быстелний шеюз;\n",
      "депянит но трака! вбова!,\n",
      "как мвною жевой и ксрадна\n",
      "в чезстал пазак молкой угоя,\n",
      "таталусва пок:релет:\n"
     ]
    }
   ],
   "source": [
    "# Saving and loading code here\n",
    "torch.save(model_lstm, './lstm_pushkin.pth')\n",
    "\n",
    "model_new = torch.load('./lstm_pushkin.pth')\n",
    "print(generate_sample(model_new))"
   ]
  },
  {
   "cell_type": "markdown",
   "metadata": {},
   "source": [
    "### References\n",
    "1. <a href='http://karpathy.github.io/2015/05/21/rnn-effectiveness/'> Andrew Karpathy blog post about RNN. </a> \n",
    "There are several examples of genration: Shakespeare texts, Latex formulas, Linux Sourse Code and children names.\n",
    "2. <a href='https://github.com/karpathy/char-rnn'> Repo with char-rnn code </a>\n",
    "3. Cool repo with PyTorch examples: [link](https://github.com/spro/practical-pytorch`)"
   ]
  }
 ],
 "metadata": {
  "anaconda-cloud": {},
  "kernelspec": {
   "display_name": "Python 3",
   "language": "python",
   "name": "python3"
  },
  "language_info": {
   "codemirror_mode": {
    "name": "ipython",
    "version": 3
   },
   "file_extension": ".py",
   "mimetype": "text/x-python",
   "name": "python",
   "nbconvert_exporter": "python",
   "pygments_lexer": "ipython3",
   "version": "3.8.3"
  }
 },
 "nbformat": 4,
 "nbformat_minor": 2
}
