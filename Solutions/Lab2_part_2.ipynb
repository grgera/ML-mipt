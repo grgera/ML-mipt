{
 "cells": [
  {
   "cell_type": "markdown",
   "metadata": {
    "id": "NFmOh482SyEF"
   },
   "source": [
    "## Lab 2\n",
    "### Part 2: Dealing with overfitting"
   ]
  },
  {
   "cell_type": "markdown",
   "metadata": {
    "id": "AjzAuO3oSvsI"
   },
   "source": [
    "Today we work with [Fashion-MNIST dataset](https://github.com/zalandoresearch/fashion-mnist) (*hint: it is available in `torchvision`*).\n",
    "\n",
    "Your goal for today:\n",
    "1. Train a FC (fully-connected) network that achieves >= 0.885 test accuracy.\n",
    "2. Cause considerable overfitting by modifying the network (e.g. increasing the number of network parameters and/or layers) and demonstrate in in the appropriate way (e.g. plot loss and accurasy on train and validation set w.r.t. network complexity).\n",
    "3. Try to deal with overfitting (at least partially) by using regularization techniques (Dropout/Batchnorm/...) and demonstrate the results.\n",
    "\n",
    "__Please, write a small report describing your ideas, tries and achieved results in the end of this file.__\n",
    "\n",
    "*Note*: Tasks 2 and 3 are interrelated, in task 3 your goal is to make the network from task 2 less prone to overfitting. Task 1 is independent from 2 and 3.\n",
    "\n",
    "*Note 2*: We recomment to use Google Colab or other machine with GPU acceleration."
   ]
  },
  {
   "cell_type": "code",
   "execution_count": 1,
   "metadata": {
    "id": "_KBld6VOSwhW"
   },
   "outputs": [],
   "source": [
    "import torch\n",
    "import torch.nn as nn\n",
    "import torchvision\n",
    "import torchvision.transforms as transforms\n",
    "import torchsummary\n",
    "from IPython.display import clear_output\n",
    "from matplotlib import pyplot as plt\n",
    "from matplotlib.pyplot import figure\n",
    "import numpy as np\n",
    "import os\n",
    "\n",
    "\n",
    "device = 'cuda:0' if torch.cuda.is_available() else 'cpu'"
   ]
  },
  {
   "cell_type": "code",
   "execution_count": 2,
   "metadata": {
    "colab": {
     "base_uri": "https://localhost:8080/"
    },
    "id": "EdLOG0XqS_g5",
    "outputId": "4c142b5a-2994-460a-a2a1-f9a8857c5eb5"
   },
   "outputs": [
    {
     "name": "stdout",
     "output_type": "stream",
     "text": [
      "Directory fmnist is created!\n"
     ]
    }
   ],
   "source": [
    "# Technical function\n",
    "def mkdir(path):\n",
    "    if not os.path.exists(root_path):\n",
    "        os.mkdir(root_path)\n",
    "        print('Directory', path, 'is created!')\n",
    "    else:\n",
    "        print('Directory', path, 'already exists!')\n",
    "        \n",
    "root_path = 'fmnist'\n",
    "mkdir(root_path)"
   ]
  },
  {
   "cell_type": "code",
   "execution_count": 3,
   "metadata": {
    "colab": {
     "base_uri": "https://localhost:8080/",
     "height": 423,
     "referenced_widgets": [
      "a475bc11bfd74a23aa5e3e04b83182e5",
      "7aa1a585634242ae8539e2c3b5a7e7b9",
      "c699d6493cf34894a87648d77684ee15",
      "d2c17132e05c4118849684fbe60678ee",
      "371b417f1e964be2934fb7fdd6d34f48",
      "f1ae11030bd54ca7bd5e97be05bf355f",
      "8399095506464a2c8f4d0e92ca0990f7",
      "dbb69e0c983b4c929d74ef2683b9882b",
      "a0c59657408a42249c945e9a14de27fd",
      "d48cea756a6b4a24b67987693ad6d45e",
      "657fbd64a04b410da0828f9fb8ab53ed",
      "55328a5b60894f7982df1320811ba089",
      "d2b29a4475bd43f58139566bcdfcff85",
      "82041ff781f04117aaca0d73bc9023f0",
      "c293a8ab03004eb5a69e3d697afcfc9a",
      "fb5c8ceb80d54672a60e79e93c90cae1",
      "dd96a6743dc24461aa53f8c30be11693",
      "8d1367202d774837928c4d7cfa2dba5b",
      "8775755111b141748afc839d84b13b7b",
      "1625cf664a994cce893eefe6a77d0c7e",
      "8afdf00f07b54097895cc339f88806b8",
      "eb7a55e463c746ad977588d20afbd739",
      "03d468fd33bd4ea994c138aa59aa2e29",
      "ff4abd6b83b14f62b6ccce00ba9e218c",
      "68f067b067da419fb7a6e17539b343e0",
      "a625a3a5f8654af5969da9921e7e2b01",
      "35a37ca0b4574778a927754875259006",
      "683939a5a0094603bb295b1d64a129ba",
      "94aefa10f28647289b3d212abc8c7c97",
      "7e88d3876171413dbbe279cecc59dfe7",
      "fd84220398984159a63921e2875615fa",
      "ac82243e587241358668ce8f105811a2",
      "8eff0c930e0a4031a1cf1790093062db",
      "cf5dee1339a545edb6823acbcc3f3c73",
      "0c9eedfbbd2247f4823290cbf757e6ad",
      "fec14076d62e4818bd2756bea3740388",
      "c4b9ac6759184c069b445f5618e61bfc",
      "734b82f5fd94408ba7a9370e9b2fe7cb",
      "cdc683c3770f4982980fcec0cba7dd6e",
      "a12d2f5cc4e14f60b8e7905f5729d421",
      "0b6b2015a89a4e69818ba9a08d6791dd",
      "e8d84e1e46a74a81be60b0d7ab734486",
      "b68f5aefa758418e8b9e4a232d5f9c43",
      "21c8a986abfd4a73908fb38752d45793"
     ]
    },
    "id": "qt6LE7XaTDT9",
    "outputId": "11295e9d-05e0-4604-ddb3-5936f3a304fa"
   },
   "outputs": [
    {
     "name": "stdout",
     "output_type": "stream",
     "text": [
      "Downloading http://fashion-mnist.s3-website.eu-central-1.amazonaws.com/train-images-idx3-ubyte.gz\n",
      "Downloading http://fashion-mnist.s3-website.eu-central-1.amazonaws.com/train-images-idx3-ubyte.gz to fmnist/FashionMNIST/raw/train-images-idx3-ubyte.gz\n"
     ]
    },
    {
     "data": {
      "application/vnd.jupyter.widget-view+json": {
       "model_id": "a475bc11bfd74a23aa5e3e04b83182e5",
       "version_major": 2,
       "version_minor": 0
      },
      "text/plain": [
       "  0%|          | 0/26421880 [00:00<?, ?it/s]"
      ]
     },
     "metadata": {},
     "output_type": "display_data"
    },
    {
     "name": "stdout",
     "output_type": "stream",
     "text": [
      "Extracting fmnist/FashionMNIST/raw/train-images-idx3-ubyte.gz to fmnist/FashionMNIST/raw\n",
      "\n",
      "Downloading http://fashion-mnist.s3-website.eu-central-1.amazonaws.com/train-labels-idx1-ubyte.gz\n",
      "Downloading http://fashion-mnist.s3-website.eu-central-1.amazonaws.com/train-labels-idx1-ubyte.gz to fmnist/FashionMNIST/raw/train-labels-idx1-ubyte.gz\n"
     ]
    },
    {
     "data": {
      "application/vnd.jupyter.widget-view+json": {
       "model_id": "55328a5b60894f7982df1320811ba089",
       "version_major": 2,
       "version_minor": 0
      },
      "text/plain": [
       "  0%|          | 0/29515 [00:00<?, ?it/s]"
      ]
     },
     "metadata": {},
     "output_type": "display_data"
    },
    {
     "name": "stdout",
     "output_type": "stream",
     "text": [
      "Extracting fmnist/FashionMNIST/raw/train-labels-idx1-ubyte.gz to fmnist/FashionMNIST/raw\n",
      "\n",
      "Downloading http://fashion-mnist.s3-website.eu-central-1.amazonaws.com/t10k-images-idx3-ubyte.gz\n",
      "Downloading http://fashion-mnist.s3-website.eu-central-1.amazonaws.com/t10k-images-idx3-ubyte.gz to fmnist/FashionMNIST/raw/t10k-images-idx3-ubyte.gz\n"
     ]
    },
    {
     "data": {
      "application/vnd.jupyter.widget-view+json": {
       "model_id": "03d468fd33bd4ea994c138aa59aa2e29",
       "version_major": 2,
       "version_minor": 0
      },
      "text/plain": [
       "  0%|          | 0/4422102 [00:00<?, ?it/s]"
      ]
     },
     "metadata": {},
     "output_type": "display_data"
    },
    {
     "name": "stdout",
     "output_type": "stream",
     "text": [
      "Extracting fmnist/FashionMNIST/raw/t10k-images-idx3-ubyte.gz to fmnist/FashionMNIST/raw\n",
      "\n",
      "Downloading http://fashion-mnist.s3-website.eu-central-1.amazonaws.com/t10k-labels-idx1-ubyte.gz\n",
      "Downloading http://fashion-mnist.s3-website.eu-central-1.amazonaws.com/t10k-labels-idx1-ubyte.gz to fmnist/FashionMNIST/raw/t10k-labels-idx1-ubyte.gz\n"
     ]
    },
    {
     "data": {
      "application/vnd.jupyter.widget-view+json": {
       "model_id": "cf5dee1339a545edb6823acbcc3f3c73",
       "version_major": 2,
       "version_minor": 0
      },
      "text/plain": [
       "  0%|          | 0/5148 [00:00<?, ?it/s]"
      ]
     },
     "metadata": {},
     "output_type": "display_data"
    },
    {
     "name": "stdout",
     "output_type": "stream",
     "text": [
      "Extracting fmnist/FashionMNIST/raw/t10k-labels-idx1-ubyte.gz to fmnist/FashionMNIST/raw\n",
      "\n"
     ]
    }
   ],
   "source": [
    "download = True\n",
    "train_transform = transforms.ToTensor()\n",
    "test_transform = transforms.ToTensor()\n",
    "transforms.Compose((transforms.ToTensor()))\n",
    "\n",
    "\n",
    "fmnist_dataset_train = torchvision.datasets.FashionMNIST(root_path, \n",
    "                                                        train=True, \n",
    "                                                        transform=train_transform,\n",
    "                                                        target_transform=None,\n",
    "                                                        download=download)\n",
    "fmnist_dataset_test = torchvision.datasets.FashionMNIST(root_path, \n",
    "                                                       train=False, \n",
    "                                                       transform=test_transform,\n",
    "                                                       target_transform=None,\n",
    "                                                       download=download)"
   ]
  },
  {
   "cell_type": "code",
   "execution_count": 4,
   "metadata": {
    "id": "hph4U6FBm2DJ"
   },
   "outputs": [],
   "source": [
    "#Let's select validation part from train dataset\n",
    "fmnist_train, fmnist_valid = torch.utils.data.random_split(fmnist_dataset_train, [50000, 10000])"
   ]
  },
  {
   "cell_type": "code",
   "execution_count": 5,
   "metadata": {
    "id": "71YP0SPwTIxD"
   },
   "outputs": [],
   "source": [
    "train_loader = torch.utils.data.DataLoader(fmnist_train, \n",
    "                                           batch_size=128,\n",
    "                                           shuffle=True,\n",
    "                                           num_workers=2)\n",
    "val_loader = torch.utils.data.DataLoader(fmnist_valid, \n",
    "                                           batch_size=256,\n",
    "                                           shuffle=False,\n",
    "                                           num_workers=2)\n",
    "test_loader = torch.utils.data.DataLoader(fmnist_dataset_test,\n",
    "                                          batch_size=256,\n",
    "                                          shuffle=False,\n",
    "                                          num_workers=2)"
   ]
  },
  {
   "cell_type": "code",
   "execution_count": 6,
   "metadata": {
    "colab": {
     "base_uri": "https://localhost:8080/"
    },
    "id": "aHca15bOTY4B",
    "outputId": "b4168eb1-f0ea-47f5-e1e7-61dab6240ee5"
   },
   "outputs": [
    {
     "name": "stdout",
     "output_type": "stream",
     "text": [
      "torch.Size([128, 1, 28, 28])\n",
      "torch.Size([128])\n",
      "128\n"
     ]
    }
   ],
   "source": [
    "for img, label in train_loader:\n",
    "    print(img.shape)\n",
    "    # print(img)\n",
    "    print(label.shape)\n",
    "    print(label.size(0))\n",
    "    break"
   ]
  },
  {
   "cell_type": "markdown",
   "metadata": {
    "id": "b6OOOffHTfX5"
   },
   "source": [
    "### Task 1\n",
    "Train a network that achieves $\\geq 0.885$ test accuracy. It's fine to use only Linear (`nn.Linear`) layers and activations/dropout/batchnorm. Convolutional layers might be a great use, but we will meet them a bit later."
   ]
  },
  {
   "cell_type": "code",
   "execution_count": 8,
   "metadata": {
    "id": "ftpkTjxlTcFx"
   },
   "outputs": [],
   "source": [
    "class TinyNeuralNetwork(nn.Module):\n",
    "    def __init__(self, input_shape=28*28, num_classes=10, input_channels=1):\n",
    "        super(self.__class__, self).__init__()\n",
    "        self.model = nn.Sequential(\n",
    "            nn.Flatten(), # This layer converts image into a vector to use Linear layers afterwards\n",
    "            # Your network structure comes here\n",
    "            nn.Linear(input_shape, 256),\n",
    "            nn.BatchNorm1d(256),\n",
    "            nn.LeakyReLU(),\n",
    "            nn.Dropout(),\n",
    "            nn.Linear(256, num_classes)\n",
    "        )\n",
    "        \n",
    "    def forward(self, inp):       \n",
    "        out = self.model(inp)\n",
    "        return out\n",
    "\n",
    "    def __call__(self, inp):\n",
    "        return self.forward(inp)"
   ]
  },
  {
   "cell_type": "code",
   "execution_count": 9,
   "metadata": {
    "colab": {
     "base_uri": "https://localhost:8080/"
    },
    "id": "4H-s1pjFcgCi",
    "outputId": "1ddadada-a308-49b5-c50f-b323c57cc592"
   },
   "outputs": [
    {
     "name": "stdout",
     "output_type": "stream",
     "text": [
      "----------------------------------------------------------------\n",
      "        Layer (type)               Output Shape         Param #\n",
      "================================================================\n",
      "           Flatten-1                  [-1, 784]               0\n",
      "            Linear-2                  [-1, 256]         200,960\n",
      "       BatchNorm1d-3                  [-1, 256]             512\n",
      "         LeakyReLU-4                  [-1, 256]               0\n",
      "           Dropout-5                  [-1, 256]               0\n",
      "            Linear-6                   [-1, 10]           2,570\n",
      "================================================================\n",
      "Total params: 204,042\n",
      "Trainable params: 204,042\n",
      "Non-trainable params: 0\n",
      "----------------------------------------------------------------\n",
      "Input size (MB): 0.00\n",
      "Forward/backward pass size (MB): 0.01\n",
      "Params size (MB): 0.78\n",
      "Estimated Total Size (MB): 0.80\n",
      "----------------------------------------------------------------\n"
     ]
    }
   ],
   "source": [
    "torchsummary.summary(TinyNeuralNetwork().to(device), (28*28,))"
   ]
  },
  {
   "cell_type": "markdown",
   "metadata": {
    "id": "544PGKEnjPr5"
   },
   "source": [
    "Your experiments come here:"
   ]
  },
  {
   "cell_type": "code",
   "execution_count": 10,
   "metadata": {
    "id": "i3POFj90Ti-6"
   },
   "outputs": [],
   "source": [
    "model = TinyNeuralNetwork().to(device)\n",
    "opt = torch.optim.SGD(model.parameters(), lr=1e-2, momentum=0.9)\n",
    "loss_func = nn.CrossEntropyLoss()\n",
    "\n",
    "# Your experiments, training and validation loops here"
   ]
  },
  {
   "cell_type": "code",
   "execution_count": 11,
   "metadata": {
    "id": "JD05oH_QhtgC"
   },
   "outputs": [],
   "source": [
    "def train_torch_model(model, train_loader, val_loader, loss_fn, n_epochs, opt):\n",
    "\n",
    "    train_loss = []\n",
    "    val_loss = []\n",
    "    val_accuracy = []\n",
    "    best_val_loss = None\n",
    "    \n",
    "    for epoch in range(n_epochs):\n",
    "        ep_train_loss = []\n",
    "        ep_val_loss = []\n",
    "        ep_val_accuracy = []\n",
    "\n",
    "        model.train(True) # turn on dropout and batch_norm training mode\n",
    "        for X_batch, y_batch in train_loader:\n",
    "            opt.zero_grad()\n",
    "            X_batch, y_batch = X_batch.to(device), y_batch.to(device)\n",
    "            out = model(X_batch)\n",
    "            loss = loss_fn(out, y_batch)\n",
    "            \n",
    "            loss.backward()\n",
    "            opt.step()\n",
    "            ep_train_loss.append(loss.item())\n",
    "\n",
    "        model.train(False) # turn off dropout and batch_norm training mode\n",
    "        with torch.no_grad():\n",
    "            for X_batch, y_batch in val_loader:\n",
    "                X_batch, y_batch = X_batch.to(device), y_batch.to(device)\n",
    "                out = model(X_batch)\n",
    "                loss = loss_fn(out, y_batch)\n",
    "                \n",
    "                ep_val_loss.append(loss.item())\n",
    "                y_pred = out.max(dim=1)[1]\n",
    "                ep_val_accuracy.append(np.sum((y_pred.cpu() == y_batch.cpu()).numpy())/len(y_batch.cpu().numpy()))\n",
    "\n",
    "        print(f'Epoch {epoch + 1} of {n_epochs}')\n",
    "\n",
    "        train_loss.append(np.mean(ep_train_loss))\n",
    "        val_loss.append(np.mean(ep_val_loss))\n",
    "        val_accuracy.append(np.mean(ep_val_accuracy))\n",
    "        \n",
    "        print(f\"\\t  training loss: {train_loss[-1]:.6f}\")\n",
    "        print(f\"\\tvalidation loss: {val_loss[-1]:.6f}\")\n",
    "        print(f\"\\tvalidation accuracy: {val_accuracy[-1]:.3f}\")\n",
    "\n",
    "        if best_val_loss is None or best_val_loss > val_loss[-1]:\n",
    "            print(f'Best model yet, saving')\n",
    "            best_val_loss = val_loss[-1]\n",
    "            torch.save(model, './best_model.pth')\n",
    "\n",
    "    return train_loss, val_loss, val_accuracy"
   ]
  },
  {
   "cell_type": "code",
   "execution_count": 12,
   "metadata": {
    "colab": {
     "base_uri": "https://localhost:8080/"
    },
    "id": "3fKvy66qpeXj",
    "outputId": "5a8937b8-a6cc-4f01-d730-4b73f3312a14"
   },
   "outputs": [
    {
     "name": "stdout",
     "output_type": "stream",
     "text": [
      "Epoch 1 of 20\n",
      "\t  training loss: 0.579215\n",
      "\tvalidation loss: 0.407790\n",
      "\tvalidation accuracy: 0.853\n",
      "Best model yet, saving\n",
      "Epoch 2 of 20\n",
      "\t  training loss: 0.443236\n",
      "\tvalidation loss: 0.379119\n",
      "\tvalidation accuracy: 0.863\n",
      "Best model yet, saving\n",
      "Epoch 3 of 20\n",
      "\t  training loss: 0.412256\n",
      "\tvalidation loss: 0.368254\n",
      "\tvalidation accuracy: 0.863\n",
      "Best model yet, saving\n",
      "Epoch 4 of 20\n",
      "\t  training loss: 0.388331\n",
      "\tvalidation loss: 0.355652\n",
      "\tvalidation accuracy: 0.867\n",
      "Best model yet, saving\n",
      "Epoch 5 of 20\n",
      "\t  training loss: 0.371303\n",
      "\tvalidation loss: 0.346879\n",
      "\tvalidation accuracy: 0.868\n",
      "Best model yet, saving\n",
      "Epoch 6 of 20\n",
      "\t  training loss: 0.359099\n",
      "\tvalidation loss: 0.335053\n",
      "\tvalidation accuracy: 0.876\n",
      "Best model yet, saving\n",
      "Epoch 7 of 20\n",
      "\t  training loss: 0.346279\n",
      "\tvalidation loss: 0.327880\n",
      "\tvalidation accuracy: 0.877\n",
      "Best model yet, saving\n",
      "Epoch 8 of 20\n",
      "\t  training loss: 0.336357\n",
      "\tvalidation loss: 0.323106\n",
      "\tvalidation accuracy: 0.879\n",
      "Best model yet, saving\n",
      "Epoch 9 of 20\n",
      "\t  training loss: 0.330035\n",
      "\tvalidation loss: 0.334303\n",
      "\tvalidation accuracy: 0.875\n",
      "Epoch 10 of 20\n",
      "\t  training loss: 0.323118\n",
      "\tvalidation loss: 0.313105\n",
      "\tvalidation accuracy: 0.882\n",
      "Best model yet, saving\n",
      "Epoch 11 of 20\n",
      "\t  training loss: 0.315342\n",
      "\tvalidation loss: 0.334502\n",
      "\tvalidation accuracy: 0.874\n",
      "Epoch 12 of 20\n",
      "\t  training loss: 0.308172\n",
      "\tvalidation loss: 0.310942\n",
      "\tvalidation accuracy: 0.880\n",
      "Best model yet, saving\n",
      "Epoch 13 of 20\n",
      "\t  training loss: 0.303607\n",
      "\tvalidation loss: 0.299979\n",
      "\tvalidation accuracy: 0.892\n",
      "Best model yet, saving\n",
      "Epoch 14 of 20\n",
      "\t  training loss: 0.298621\n",
      "\tvalidation loss: 0.299885\n",
      "\tvalidation accuracy: 0.888\n",
      "Best model yet, saving\n",
      "Epoch 15 of 20\n",
      "\t  training loss: 0.295115\n",
      "\tvalidation loss: 0.307527\n",
      "\tvalidation accuracy: 0.887\n",
      "Epoch 16 of 20\n",
      "\t  training loss: 0.288953\n",
      "\tvalidation loss: 0.299621\n",
      "\tvalidation accuracy: 0.890\n",
      "Best model yet, saving\n",
      "Epoch 17 of 20\n",
      "\t  training loss: 0.283083\n",
      "\tvalidation loss: 0.296421\n",
      "\tvalidation accuracy: 0.890\n",
      "Best model yet, saving\n",
      "Epoch 18 of 20\n",
      "\t  training loss: 0.278926\n",
      "\tvalidation loss: 0.297489\n",
      "\tvalidation accuracy: 0.887\n",
      "Epoch 19 of 20\n",
      "\t  training loss: 0.274939\n",
      "\tvalidation loss: 0.292174\n",
      "\tvalidation accuracy: 0.893\n",
      "Best model yet, saving\n",
      "Epoch 20 of 20\n",
      "\t  training loss: 0.273046\n",
      "\tvalidation loss: 0.300235\n",
      "\tvalidation accuracy: 0.889\n"
     ]
    }
   ],
   "source": [
    "n_epochs = 20\n",
    "train_loss, val_loss, val_accuracy = train_torch_model(model, train_loader,\n",
    "                                                 val_loader, loss_func,\n",
    "                                                 n_epochs, opt)"
   ]
  },
  {
   "cell_type": "code",
   "execution_count": 14,
   "metadata": {
    "colab": {
     "base_uri": "https://localhost:8080/",
     "height": 526
    },
    "id": "gZtvv-zjvyUg",
    "outputId": "25929a57-6690-4de2-b9e9-23f9a0ef2f7b"
   },
   "outputs": [
    {
     "data": {
      "image/png": "[encoded data removed]",
      "text/plain": [
       "<Figure size 1440x576 with 2 Axes>"
      ]
     },
     "metadata": {
      "needs_background": "light"
     },
     "output_type": "display_data"
    }
   ],
   "source": [
    "fig, ax = plt.subplots(1, 2, figsize=(20,8));\n",
    "fig.suptitle('TinyNeuralNetwork losses and val accuracy', y=0.93)\n",
    "ax[0].plot(train_loss, label = 'Train Loss')\n",
    "ax[0].plot(val_loss, label = 'Validation Loss')\n",
    "ax[1].plot(val_accuracy, label = 'Validation Accuracy')\n",
    "for i in range(2):\n",
    "    ax[i].set_xlabel('Epoch')\n",
    "    ax[i].set_ylabel('Loss Value')\n",
    "    ax[i].grid(which='major')\n",
    "    ax[i].legend();"
   ]
  },
  {
   "cell_type": "code",
   "execution_count": 15,
   "metadata": {
    "colab": {
     "base_uri": "https://localhost:8080/"
    },
    "id": "itJYMN3bv18u",
    "outputId": "0bbf0eef-37ce-4614-f8d3-0fb7c2163ba7"
   },
   "outputs": [
    {
     "name": "stdout",
     "output_type": "stream",
     "text": [
      "Accuracy on test data =  0.8864\n"
     ]
    }
   ],
   "source": [
    "model = torch.load('./best_model.pth')\n",
    "with torch.no_grad():\n",
    "    model.train(False)\n",
    "\n",
    "    y_pred = np.array([])\n",
    "    y_label = np.array([])\n",
    "\n",
    "    for X_batch, y_batch in test_loader:\n",
    "        out = model.forward(X_batch.to(device))\n",
    "\n",
    "        y_pred = np.concatenate((y_pred, out.argmax(axis=1).cpu().numpy()))\n",
    "        y_label = np.concatenate((y_label, y_batch.cpu().numpy()))\n",
    "\n",
    "    print(\"Accuracy on test data = \", np.mean(y_label == y_pred))"
   ]
  },
  {
   "cell_type": "markdown",
   "metadata": {
    "id": "L7ISqkjmCPB1"
   },
   "source": [
    "### Task 2: Overfit it.\n",
    "Build a network that will overfit to this dataset. Demonstrate the overfitting in the appropriate way (e.g. plot loss and accurasy on train and test set w.r.t. network complexity).\n",
    "\n",
    "*Note:* you also might decrease the size of `train` dataset to enforce the overfitting and speed up the computations."
   ]
  },
  {
   "cell_type": "code",
   "execution_count": 21,
   "metadata": {
    "id": "H12uAWiGBwJx"
   },
   "outputs": [],
   "source": [
    "class OverfittingNeuralNetwork(nn.Module):\n",
    "    def __init__(self, input_shape=28*28, num_classes=10, input_channels=1):\n",
    "        super(self.__class__, self).__init__()\n",
    "        self.model = nn.Sequential(\n",
    "            nn.Flatten(), # This layer converts image into a vector to use Linear layers afterwards\n",
    "            # Your network structure comes here\n",
    "            nn.Linear(input_shape, 512),\n",
    "            nn.ReLU(),\n",
    "            nn.Linear(512, 256),\n",
    "            nn.ReLU(),\n",
    "            nn.Linear(256, num_classes)\n",
    "        )\n",
    "        \n",
    "    def forward(self, inp):       \n",
    "        out = self.model(inp)\n",
    "        return out\n",
    "\n",
    "    def __call__(self, inp):\n",
    "        return self.forward(inp)"
   ]
  },
  {
   "cell_type": "code",
   "execution_count": 22,
   "metadata": {
    "colab": {
     "base_uri": "https://localhost:8080/"
    },
    "id": "JgXAKCpvCwqH",
    "outputId": "5be95aed-9180-400c-b285-818ae7483678"
   },
   "outputs": [
    {
     "name": "stdout",
     "output_type": "stream",
     "text": [
      "----------------------------------------------------------------\n",
      "        Layer (type)               Output Shape         Param #\n",
      "================================================================\n",
      "           Flatten-1                  [-1, 784]               0\n",
      "            Linear-2                  [-1, 512]         401,920\n",
      "              ReLU-3                  [-1, 512]               0\n",
      "            Linear-4                  [-1, 256]         131,328\n",
      "              ReLU-5                  [-1, 256]               0\n",
      "            Linear-6                   [-1, 10]           2,570\n",
      "================================================================\n",
      "Total params: 535,818\n",
      "Trainable params: 535,818\n",
      "Non-trainable params: 0\n",
      "----------------------------------------------------------------\n",
      "Input size (MB): 0.00\n",
      "Forward/backward pass size (MB): 0.02\n",
      "Params size (MB): 2.04\n",
      "Estimated Total Size (MB): 2.06\n",
      "----------------------------------------------------------------\n"
     ]
    }
   ],
   "source": [
    "torchsummary.summary(OverfittingNeuralNetwork().to(device), (28*28,))"
   ]
  },
  {
   "cell_type": "code",
   "execution_count": 23,
   "metadata": {
    "id": "Vm9ASQxEcgCj"
   },
   "outputs": [],
   "source": [
    "model_over = OverfittingNeuralNetwork().to(device)\n",
    "opt_over = torch.optim.SGD(model_over.parameters(), lr=1e-2, momentum=0.9)\n",
    "loss_func = nn.CrossEntropyLoss()\n",
    "\n",
    "# Your experiments, come here"
   ]
  },
  {
   "cell_type": "code",
   "execution_count": 24,
   "metadata": {
    "colab": {
     "base_uri": "https://localhost:8080/"
    },
    "id": "0coe3p7LCFD-",
    "outputId": "33dfff51-b349-422f-a6d9-63ae01312631"
   },
   "outputs": [
    {
     "name": "stdout",
     "output_type": "stream",
     "text": [
      "Epoch 1 of 30\n",
      "\t  training loss: 0.870846\n",
      "\tvalidation loss: 0.505185\n",
      "\tvalidation accuracy: 0.826\n",
      "Best model yet, saving\n",
      "Epoch 2 of 30\n",
      "\t  training loss: 0.487859\n",
      "\tvalidation loss: 0.460625\n",
      "\tvalidation accuracy: 0.835\n",
      "Best model yet, saving\n",
      "Epoch 3 of 30\n",
      "\t  training loss: 0.439905\n",
      "\tvalidation loss: 0.413705\n",
      "\tvalidation accuracy: 0.850\n",
      "Best model yet, saving\n",
      "Epoch 4 of 30\n",
      "\t  training loss: 0.403211\n",
      "\tvalidation loss: 0.383642\n",
      "\tvalidation accuracy: 0.860\n",
      "Best model yet, saving\n",
      "Epoch 5 of 30\n",
      "\t  training loss: 0.377253\n",
      "\tvalidation loss: 0.373997\n",
      "\tvalidation accuracy: 0.861\n",
      "Best model yet, saving\n",
      "Epoch 6 of 30\n",
      "\t  training loss: 0.355973\n",
      "\tvalidation loss: 0.358217\n",
      "\tvalidation accuracy: 0.865\n",
      "Best model yet, saving\n",
      "Epoch 7 of 30\n",
      "\t  training loss: 0.340995\n",
      "\tvalidation loss: 0.336228\n",
      "\tvalidation accuracy: 0.878\n",
      "Best model yet, saving\n",
      "Epoch 8 of 30\n",
      "\t  training loss: 0.328451\n",
      "\tvalidation loss: 0.355923\n",
      "\tvalidation accuracy: 0.868\n",
      "Epoch 9 of 30\n",
      "\t  training loss: 0.313426\n",
      "\tvalidation loss: 0.316931\n",
      "\tvalidation accuracy: 0.884\n",
      "Best model yet, saving\n",
      "Epoch 10 of 30\n",
      "\t  training loss: 0.304846\n",
      "\tvalidation loss: 0.334469\n",
      "\tvalidation accuracy: 0.872\n",
      "Epoch 11 of 30\n",
      "\t  training loss: 0.295513\n",
      "\tvalidation loss: 0.319154\n",
      "\tvalidation accuracy: 0.880\n",
      "Epoch 12 of 30\n",
      "\t  training loss: 0.284161\n",
      "\tvalidation loss: 0.312382\n",
      "\tvalidation accuracy: 0.887\n",
      "Best model yet, saving\n",
      "Epoch 13 of 30\n",
      "\t  training loss: 0.277251\n",
      "\tvalidation loss: 0.347895\n",
      "\tvalidation accuracy: 0.866\n",
      "Epoch 14 of 30\n",
      "\t  training loss: 0.271545\n",
      "\tvalidation loss: 0.302779\n",
      "\tvalidation accuracy: 0.887\n",
      "Best model yet, saving\n",
      "Epoch 15 of 30\n",
      "\t  training loss: 0.257598\n",
      "\tvalidation loss: 0.297888\n",
      "\tvalidation accuracy: 0.887\n",
      "Best model yet, saving\n",
      "Epoch 16 of 30\n",
      "\t  training loss: 0.255852\n",
      "\tvalidation loss: 0.297600\n",
      "\tvalidation accuracy: 0.890\n",
      "Best model yet, saving\n",
      "Epoch 17 of 30\n",
      "\t  training loss: 0.246506\n",
      "\tvalidation loss: 0.312125\n",
      "\tvalidation accuracy: 0.885\n",
      "Epoch 18 of 30\n",
      "\t  training loss: 0.243321\n",
      "\tvalidation loss: 0.317412\n",
      "\tvalidation accuracy: 0.880\n",
      "Epoch 19 of 30\n",
      "\t  training loss: 0.237213\n",
      "\tvalidation loss: 0.297783\n",
      "\tvalidation accuracy: 0.887\n",
      "Epoch 20 of 30\n",
      "\t  training loss: 0.231419\n",
      "\tvalidation loss: 0.292884\n",
      "\tvalidation accuracy: 0.891\n",
      "Best model yet, saving\n",
      "Epoch 21 of 30\n",
      "\t  training loss: 0.223115\n",
      "\tvalidation loss: 0.288053\n",
      "\tvalidation accuracy: 0.891\n",
      "Best model yet, saving\n",
      "Epoch 22 of 30\n",
      "\t  training loss: 0.220879\n",
      "\tvalidation loss: 0.289340\n",
      "\tvalidation accuracy: 0.892\n",
      "Epoch 23 of 30\n",
      "\t  training loss: 0.213026\n",
      "\tvalidation loss: 0.294596\n",
      "\tvalidation accuracy: 0.890\n",
      "Epoch 24 of 30\n",
      "\t  training loss: 0.209758\n",
      "\tvalidation loss: 0.294491\n",
      "\tvalidation accuracy: 0.892\n",
      "Epoch 25 of 30\n",
      "\t  training loss: 0.202392\n",
      "\tvalidation loss: 0.296266\n",
      "\tvalidation accuracy: 0.888\n",
      "Epoch 26 of 30\n",
      "\t  training loss: 0.198687\n",
      "\tvalidation loss: 0.282889\n",
      "\tvalidation accuracy: 0.894\n",
      "Best model yet, saving\n",
      "Epoch 27 of 30\n",
      "\t  training loss: 0.192786\n",
      "\tvalidation loss: 0.310779\n",
      "\tvalidation accuracy: 0.889\n",
      "Epoch 28 of 30\n",
      "\t  training loss: 0.190662\n",
      "\tvalidation loss: 0.280694\n",
      "\tvalidation accuracy: 0.895\n",
      "Best model yet, saving\n",
      "Epoch 29 of 30\n",
      "\t  training loss: 0.183304\n",
      "\tvalidation loss: 0.294075\n",
      "\tvalidation accuracy: 0.895\n",
      "Epoch 30 of 30\n",
      "\t  training loss: 0.177750\n",
      "\tvalidation loss: 0.301087\n",
      "\tvalidation accuracy: 0.886\n"
     ]
    }
   ],
   "source": [
    "n_epochs = 30\n",
    "train_loss, val_loss, val_accuracy = train_torch_model(model_over, train_loader,\n",
    "                                                 val_loader, loss_func,\n",
    "                                                 n_epochs, opt_over)"
   ]
  },
  {
   "cell_type": "code",
   "execution_count": 25,
   "metadata": {
    "colab": {
     "base_uri": "https://localhost:8080/",
     "height": 526
    },
    "id": "l8qtTmQjCMfI",
    "outputId": "9faca646-b42c-4255-8fc5-a99235100460"
   },
   "outputs": [
    {
     "data": {
      "image/png": "[encoded data removed]",
      "text/plain": [
       "<Figure size 1440x576 with 2 Axes>"
      ]
     },
     "metadata": {
      "needs_background": "light"
     },
     "output_type": "display_data"
    }
   ],
   "source": [
    "fig, ax = plt.subplots(1, 2, figsize=(20,8));\n",
    "fig.suptitle('OverfittingNeuralNetwork losses and val accuracy', y=0.93)\n",
    "ax[0].plot(train_loss, label = 'Train Loss')\n",
    "ax[0].plot(val_loss, label = 'Validation Loss')\n",
    "ax[1].plot(val_accuracy, label = 'Validation Accuracy')\n",
    "for i in range(2):\n",
    "    ax[i].set_xlabel('Epoch')\n",
    "    ax[i].set_ylabel('Loss Value')\n",
    "    ax[i].grid(which='major')\n",
    "    ax[i].legend();"
   ]
  },
  {
   "cell_type": "markdown",
   "metadata": {
    "id": "2W0i0EZzcgCk"
   },
   "source": [
    "### Task 3: Fix it.\n",
    "Fix the overfitted network from the previous step (at least partially) by using regularization techniques (Dropout/Batchnorm/...) and demonstrate the results. "
   ]
  },
  {
   "cell_type": "code",
   "execution_count": 26,
   "metadata": {
    "id": "AduXkequcgCk"
   },
   "outputs": [],
   "source": [
    "class FixedNeuralNetwork(nn.Module):\n",
    "    def __init__(self, input_shape=28*28, num_classes=10, input_channels=1):\n",
    "        super(self.__class__, self).__init__()\n",
    "        self.model = nn.Sequential(\n",
    "            nn.Flatten(), # This layer converts image into a vector to use Linear layers afterwards\n",
    "            # Your network structure comes here\n",
    "            nn.Linear(input_shape, 512),\n",
    "            nn.BatchNorm1d(512),\n",
    "            nn.ReLU(),\n",
    "            nn.Dropout(),\n",
    "            nn.Linear(512, 256),\n",
    "            nn.BatchNorm1d(256),\n",
    "            nn.ReLU(),\n",
    "            nn.Dropout(),\n",
    "            nn.Linear(256, num_classes)      \n",
    "        )\n",
    "        \n",
    "    def forward(self, inp):       \n",
    "        out = self.model(inp)\n",
    "        return out\n",
    "\n",
    "    def __call__(self, inp):\n",
    "        return self.forward(inp)"
   ]
  },
  {
   "cell_type": "code",
   "execution_count": 27,
   "metadata": {
    "colab": {
     "base_uri": "https://localhost:8080/"
    },
    "id": "ZFZ5iJTScgCk",
    "outputId": "f2fc0d7a-66fb-4754-fd19-51c0554c78cd"
   },
   "outputs": [
    {
     "name": "stdout",
     "output_type": "stream",
     "text": [
      "----------------------------------------------------------------\n",
      "        Layer (type)               Output Shape         Param #\n",
      "================================================================\n",
      "           Flatten-1                  [-1, 784]               0\n",
      "            Linear-2                  [-1, 512]         401,920\n",
      "       BatchNorm1d-3                  [-1, 512]           1,024\n",
      "              ReLU-4                  [-1, 512]               0\n",
      "           Dropout-5                  [-1, 512]               0\n",
      "            Linear-6                  [-1, 256]         131,328\n",
      "       BatchNorm1d-7                  [-1, 256]             512\n",
      "              ReLU-8                  [-1, 256]               0\n",
      "           Dropout-9                  [-1, 256]               0\n",
      "           Linear-10                   [-1, 10]           2,570\n",
      "================================================================\n",
      "Total params: 537,354\n",
      "Trainable params: 537,354\n",
      "Non-trainable params: 0\n",
      "----------------------------------------------------------------\n",
      "Input size (MB): 0.00\n",
      "Forward/backward pass size (MB): 0.03\n",
      "Params size (MB): 2.05\n",
      "Estimated Total Size (MB): 2.08\n",
      "----------------------------------------------------------------\n"
     ]
    }
   ],
   "source": [
    "torchsummary.summary(FixedNeuralNetwork().to(device), (28*28,))"
   ]
  },
  {
   "cell_type": "code",
   "execution_count": 28,
   "metadata": {
    "id": "zKVKss_DcgCk"
   },
   "outputs": [],
   "source": [
    "model_fix = FixedNeuralNetwork().to(device)\n",
    "opt_fix = torch.optim.SGD(model_fix.parameters(), lr=1e-2, momentum=0.9)\n",
    "loss_func = nn.CrossEntropyLoss()\n",
    "\n",
    "# Your experiments, come here"
   ]
  },
  {
   "cell_type": "code",
   "execution_count": 29,
   "metadata": {
    "colab": {
     "base_uri": "https://localhost:8080/"
    },
    "id": "lxA5Tv0WVQ0s",
    "outputId": "c49a4fe2-e2af-44f2-870e-116387b260a7"
   },
   "outputs": [
    {
     "name": "stdout",
     "output_type": "stream",
     "text": [
      "Epoch 1 of 30\n",
      "\t  training loss: 0.626378\n",
      "\tvalidation loss: 0.398773\n",
      "\tvalidation accuracy: 0.850\n",
      "Best model yet, saving\n",
      "Epoch 2 of 30\n",
      "\t  training loss: 0.460595\n",
      "\tvalidation loss: 0.365281\n",
      "\tvalidation accuracy: 0.867\n",
      "Best model yet, saving\n",
      "Epoch 3 of 30\n",
      "\t  training loss: 0.420167\n",
      "\tvalidation loss: 0.343400\n",
      "\tvalidation accuracy: 0.874\n",
      "Best model yet, saving\n",
      "Epoch 4 of 30\n",
      "\t  training loss: 0.396263\n",
      "\tvalidation loss: 0.335302\n",
      "\tvalidation accuracy: 0.875\n",
      "Best model yet, saving\n",
      "Epoch 5 of 30\n",
      "\t  training loss: 0.378925\n",
      "\tvalidation loss: 0.323309\n",
      "\tvalidation accuracy: 0.879\n",
      "Best model yet, saving\n",
      "Epoch 6 of 30\n",
      "\t  training loss: 0.366778\n",
      "\tvalidation loss: 0.326422\n",
      "\tvalidation accuracy: 0.880\n",
      "Epoch 7 of 30\n",
      "\t  training loss: 0.351943\n",
      "\tvalidation loss: 0.310130\n",
      "\tvalidation accuracy: 0.881\n",
      "Best model yet, saving\n",
      "Epoch 8 of 30\n",
      "\t  training loss: 0.344543\n",
      "\tvalidation loss: 0.304004\n",
      "\tvalidation accuracy: 0.889\n",
      "Best model yet, saving\n",
      "Epoch 9 of 30\n",
      "\t  training loss: 0.335432\n",
      "\tvalidation loss: 0.322228\n",
      "\tvalidation accuracy: 0.881\n",
      "Epoch 10 of 30\n",
      "\t  training loss: 0.326431\n",
      "\tvalidation loss: 0.306516\n",
      "\tvalidation accuracy: 0.886\n",
      "Epoch 11 of 30\n",
      "\t  training loss: 0.318918\n",
      "\tvalidation loss: 0.297685\n",
      "\tvalidation accuracy: 0.888\n",
      "Best model yet, saving\n",
      "Epoch 12 of 30\n",
      "\t  training loss: 0.316039\n",
      "\tvalidation loss: 0.313186\n",
      "\tvalidation accuracy: 0.884\n",
      "Epoch 13 of 30\n",
      "\t  training loss: 0.308099\n",
      "\tvalidation loss: 0.295683\n",
      "\tvalidation accuracy: 0.883\n",
      "Best model yet, saving\n",
      "Epoch 14 of 30\n",
      "\t  training loss: 0.300489\n",
      "\tvalidation loss: 0.301684\n",
      "\tvalidation accuracy: 0.886\n",
      "Epoch 15 of 30\n",
      "\t  training loss: 0.296502\n",
      "\tvalidation loss: 0.285273\n",
      "\tvalidation accuracy: 0.891\n",
      "Best model yet, saving\n",
      "Epoch 16 of 30\n",
      "\t  training loss: 0.295192\n",
      "\tvalidation loss: 0.305654\n",
      "\tvalidation accuracy: 0.883\n",
      "Epoch 17 of 30\n",
      "\t  training loss: 0.286136\n",
      "\tvalidation loss: 0.280302\n",
      "\tvalidation accuracy: 0.893\n",
      "Best model yet, saving\n",
      "Epoch 18 of 30\n",
      "\t  training loss: 0.282353\n",
      "\tvalidation loss: 0.283293\n",
      "\tvalidation accuracy: 0.895\n",
      "Epoch 19 of 30\n",
      "\t  training loss: 0.276747\n",
      "\tvalidation loss: 0.279266\n",
      "\tvalidation accuracy: 0.894\n",
      "Best model yet, saving\n",
      "Epoch 20 of 30\n",
      "\t  training loss: 0.274962\n",
      "\tvalidation loss: 0.280337\n",
      "\tvalidation accuracy: 0.894\n",
      "Epoch 21 of 30\n",
      "\t  training loss: 0.270776\n",
      "\tvalidation loss: 0.279215\n",
      "\tvalidation accuracy: 0.895\n",
      "Best model yet, saving\n",
      "Epoch 22 of 30\n",
      "\t  training loss: 0.265788\n",
      "\tvalidation loss: 0.281172\n",
      "\tvalidation accuracy: 0.889\n",
      "Epoch 23 of 30\n",
      "\t  training loss: 0.259916\n",
      "\tvalidation loss: 0.281162\n",
      "\tvalidation accuracy: 0.895\n",
      "Epoch 24 of 30\n",
      "\t  training loss: 0.259526\n",
      "\tvalidation loss: 0.287109\n",
      "\tvalidation accuracy: 0.894\n",
      "Epoch 25 of 30\n",
      "\t  training loss: 0.257354\n",
      "\tvalidation loss: 0.276757\n",
      "\tvalidation accuracy: 0.897\n",
      "Best model yet, saving\n",
      "Epoch 26 of 30\n",
      "\t  training loss: 0.252599\n",
      "\tvalidation loss: 0.273316\n",
      "\tvalidation accuracy: 0.897\n",
      "Best model yet, saving\n",
      "Epoch 27 of 30\n",
      "\t  training loss: 0.248297\n",
      "\tvalidation loss: 0.272994\n",
      "\tvalidation accuracy: 0.896\n",
      "Best model yet, saving\n",
      "Epoch 28 of 30\n",
      "\t  training loss: 0.243350\n",
      "\tvalidation loss: 0.277963\n",
      "\tvalidation accuracy: 0.898\n",
      "Epoch 29 of 30\n",
      "\t  training loss: 0.242375\n",
      "\tvalidation loss: 0.274220\n",
      "\tvalidation accuracy: 0.898\n",
      "Epoch 30 of 30\n",
      "\t  training loss: 0.240008\n",
      "\tvalidation loss: 0.274833\n",
      "\tvalidation accuracy: 0.899\n"
     ]
    }
   ],
   "source": [
    "n_epochs = 30\n",
    "train_loss, val_loss, val_accuracy = train_torch_model(model_fix, train_loader,\n",
    "                                                 val_loader, loss_func,\n",
    "                                                 n_epochs, opt_fix)"
   ]
  },
  {
   "cell_type": "code",
   "execution_count": 30,
   "metadata": {
    "colab": {
     "base_uri": "https://localhost:8080/",
     "height": 526
    },
    "id": "kHTrjJ5MWYyj",
    "outputId": "44933472-e651-4f0b-e7eb-5e6f141bc112"
   },
   "outputs": [
    {
     "data": {
      "image/png": "[encoded data removed]",
      "text/plain": [
       "<Figure size 1440x576 with 2 Axes>"
      ]
     },
     "metadata": {
      "needs_background": "light"
     },
     "output_type": "display_data"
    }
   ],
   "source": [
    "fig, ax = plt.subplots(1, 2, figsize=(20,8));\n",
    "fig.suptitle('FixedNeuralNetwork losses and val accuracy', y=0.93)\n",
    "ax[0].plot(train_loss, label = 'Train Loss')\n",
    "ax[0].plot(val_loss, label = 'Validation Loss')\n",
    "ax[1].plot(val_accuracy, label = 'Validation Accuracy')\n",
    "for i in range(2):\n",
    "    ax[i].set_xlabel('Epoch')\n",
    "    ax[i].set_ylabel('Loss Value')\n",
    "    ax[i].grid(which='major')\n",
    "    ax[i].legend();"
   ]
  },
  {
   "cell_type": "code",
   "execution_count": 31,
   "metadata": {
    "colab": {
     "base_uri": "https://localhost:8080/"
    },
    "id": "QYFhu0akn90c",
    "outputId": "6a8f060b-8d91-4aa5-bd42-e2c0c96f7996"
   },
   "outputs": [
    {
     "name": "stdout",
     "output_type": "stream",
     "text": [
      "Accuracy on test data =  0.8887\n"
     ]
    }
   ],
   "source": [
    "model_fix = torch.load('./best_model.pth')\n",
    "with torch.no_grad():\n",
    "    model_fix.train(False)\n",
    "\n",
    "    y_pred = np.array([])\n",
    "    y_label = np.array([])\n",
    "\n",
    "    for X_batch, y_batch in test_loader:\n",
    "        out = model_fix.forward(X_batch.to(device))\n",
    "\n",
    "        y_pred = np.concatenate((y_pred, out.argmax(axis=1).cpu().numpy()))\n",
    "        y_label = np.concatenate((y_label, y_batch.cpu().numpy()))\n",
    "\n",
    "    print(\"Accuracy on test data = \", np.mean(y_label == y_pred))"
   ]
  },
  {
   "cell_type": "markdown",
   "metadata": {
    "id": "dMui_uLJ7G0d"
   },
   "source": [
    "### Conclusions:\n",
    "_Write down small report with your conclusions and your ideas._"
   ]
  },
  {
   "cell_type": "markdown",
   "metadata": {
    "id": "VLr_30TApR-Q"
   },
   "source": [
    "- In the first task we created a simple grid, in the process of training on the validation data we selected the best model and obtained the desired result on the test data.\n",
    "- The next task was to retrain the model, I left only the linear layers and activation functions, so the network began to retrain as the epochs increased, you can see the beginning of overfitting on the graphs. The loss of validation data stops falling and then begins to grow, while the loss of train data continues to fall. The model has started to remember the training sample.\n",
    "- In the last point, we try to fix the sad situation. We add a BatchNorm after the linear layers and apply a Dropout. BatchNorm and Dropout speed up learning and are excellent regularizers. Dropout prevents units from co-adapting too much. \n",
    "- On the graphs of the improved model, you can notice both the acceleration of training and the same decrease in the loss curves."
   ]
  },
  {
   "cell_type": "markdown",
   "metadata": {
    "id": "GRX77w5hwsik"
   },
   "source": [
    "**In summary:** BatchNorm and Dropouts are an essential part of neural network to speed up convergence and prevent overfitting."
   ]
  }
 ],
 "metadata": {
  "accelerator": "GPU",
  "colab": {
   "collapsed_sections": [],
   "name": "Lab2_DL_part2_overfitting.ipynb",
   "provenance": []
  },
  "kernelspec": {
   "display_name": "Python 3",
   "language": "python",
   "name": "python3"
  },
  "language_info": {
   "codemirror_mode": {
    "name": "ipython",
    "version": 3
   },
   "file_extension": ".py",
   "mimetype": "text/x-python",
   "name": "python",
   "nbconvert_exporter": "python",
   "pygments_lexer": "ipython3",
   "version": "3.8.3"
  },
  "widgets": {
   "application/vnd.jupyter.widget-state+json": {
    "03d468fd33bd4ea994c138aa59aa2e29": {
     "model_module": "@jupyter-widgets/controls",
     "model_module_version": "1.5.0",
     "model_name": "HBoxModel",
     "state": {
      "_dom_classes": [],
      "_model_module": "@jupyter-widgets/controls",
      "_model_module_version": "1.5.0",
      "_model_name": "HBoxModel",
      "_view_count": null,
      "_view_module": "@jupyter-widgets/controls",
      "_view_module_version": "1.5.0",
      "_view_name": "HBoxView",
      "box_style": "",
      "children": [
       "IPY_MODEL_68f067b067da419fb7a6e17539b343e0",
       "IPY_MODEL_a625a3a5f8654af5969da9921e7e2b01",
       "IPY_MODEL_35a37ca0b4574778a927754875259006"
      ],
      "layout": "IPY_MODEL_ff4abd6b83b14f62b6ccce00ba9e218c"
     }
    },
    "0b6b2015a89a4e69818ba9a08d6791dd": {
     "model_module": "@jupyter-widgets/controls",
     "model_module_version": "1.5.0",
     "model_name": "ProgressStyleModel",
     "state": {
      "_model_module": "@jupyter-widgets/controls",
      "_model_module_version": "1.5.0",
      "_model_name": "ProgressStyleModel",
      "_view_count": null,
      "_view_module": "@jupyter-widgets/base",
      "_view_module_version": "1.2.0",
      "_view_name": "StyleView",
      "bar_color": null,
      "description_width": ""
     }
    },
    "0c9eedfbbd2247f4823290cbf757e6ad": {
     "model_module": "@jupyter-widgets/base",
     "model_module_version": "1.2.0",
     "model_name": "LayoutModel",
     "state": {
      "_model_module": "@jupyter-widgets/base",
      "_model_module_version": "1.2.0",
      "_model_name": "LayoutModel",
      "_view_count": null,
      "_view_module": "@jupyter-widgets/base",
      "_view_module_version": "1.2.0",
      "_view_name": "LayoutView",
      "align_content": null,
      "align_items": null,
      "align_self": null,
      "border": null,
      "bottom": null,
      "display": null,
      "flex": null,
      "flex_flow": null,
      "grid_area": null,
      "grid_auto_columns": null,
      "grid_auto_flow": null,
      "grid_auto_rows": null,
      "grid_column": null,
      "grid_gap": null,
      "grid_row": null,
      "grid_template_areas": null,
      "grid_template_columns": null,
      "grid_template_rows": null,
      "height": null,
      "justify_content": null,
      "justify_items": null,
      "left": null,
      "margin": null,
      "max_height": null,
      "max_width": null,
      "min_height": null,
      "min_width": null,
      "object_fit": null,
      "object_position": null,
      "order": null,
      "overflow": null,
      "overflow_x": null,
      "overflow_y": null,
      "padding": null,
      "right": null,
      "top": null,
      "visibility": null,
      "width": null
     }
    },
    "1625cf664a994cce893eefe6a77d0c7e": {
     "model_module": "@jupyter-widgets/base",
     "model_module_version": "1.2.0",
     "model_name": "LayoutModel",
     "state": {
      "_model_module": "@jupyter-widgets/base",
      "_model_module_version": "1.2.0",
      "_model_name": "LayoutModel",
      "_view_count": null,
      "_view_module": "@jupyter-widgets/base",
      "_view_module_version": "1.2.0",
      "_view_name": "LayoutView",
      "align_content": null,
      "align_items": null,
      "align_self": null,
      "border": null,
      "bottom": null,
      "display": null,
      "flex": null,
      "flex_flow": null,
      "grid_area": null,
      "grid_auto_columns": null,
      "grid_auto_flow": null,
      "grid_auto_rows": null,
      "grid_column": null,
      "grid_gap": null,
      "grid_row": null,
      "grid_template_areas": null,
      "grid_template_columns": null,
      "grid_template_rows": null,
      "height": null,
      "justify_content": null,
      "justify_items": null,
      "left": null,
      "margin": null,
      "max_height": null,
      "max_width": null,
      "min_height": null,
      "min_width": null,
      "object_fit": null,
      "object_position": null,
      "order": null,
      "overflow": null,
      "overflow_x": null,
      "overflow_y": null,
      "padding": null,
      "right": null,
      "top": null,
      "visibility": null,
      "width": null
     }
    },
    "21c8a986abfd4a73908fb38752d45793": {
     "model_module": "@jupyter-widgets/base",
     "model_module_version": "1.2.0",
     "model_name": "LayoutModel",
     "state": {
      "_model_module": "@jupyter-widgets/base",
      "_model_module_version": "1.2.0",
      "_model_name": "LayoutModel",
      "_view_count": null,
      "_view_module": "@jupyter-widgets/base",
      "_view_module_version": "1.2.0",
      "_view_name": "LayoutView",
      "align_content": null,
      "align_items": null,
      "align_self": null,
      "border": null,
      "bottom": null,
      "display": null,
      "flex": null,
      "flex_flow": null,
      "grid_area": null,
      "grid_auto_columns": null,
      "grid_auto_flow": null,
      "grid_auto_rows": null,
      "grid_column": null,
      "grid_gap": null,
      "grid_row": null,
      "grid_template_areas": null,
      "grid_template_columns": null,
      "grid_template_rows": null,
      "height": null,
      "justify_content": null,
      "justify_items": null,
      "left": null,
      "margin": null,
      "max_height": null,
      "max_width": null,
      "min_height": null,
      "min_width": null,
      "object_fit": null,
      "object_position": null,
      "order": null,
      "overflow": null,
      "overflow_x": null,
      "overflow_y": null,
      "padding": null,
      "right": null,
      "top": null,
      "visibility": null,
      "width": null
     }
    },
    "35a37ca0b4574778a927754875259006": {
     "model_module": "@jupyter-widgets/controls",
     "model_module_version": "1.5.0",
     "model_name": "HTMLModel",
     "state": {
      "_dom_classes": [],
      "_model_module": "@jupyter-widgets/controls",
      "_model_module_version": "1.5.0",
      "_model_name": "HTMLModel",
      "_view_count": null,
      "_view_module": "@jupyter-widgets/controls",
      "_view_module_version": "1.5.0",
      "_view_name": "HTMLView",
      "description": "",
      "description_tooltip": null,
      "layout": "IPY_MODEL_8eff0c930e0a4031a1cf1790093062db",
      "placeholder": "​",
      "style": "IPY_MODEL_ac82243e587241358668ce8f105811a2",
      "value": " 4422656/? [00:00&lt;00:00, 14918093.69it/s]"
     }
    },
    "371b417f1e964be2934fb7fdd6d34f48": {
     "model_module": "@jupyter-widgets/controls",
     "model_module_version": "1.5.0",
     "model_name": "HTMLModel",
     "state": {
      "_dom_classes": [],
      "_model_module": "@jupyter-widgets/controls",
      "_model_module_version": "1.5.0",
      "_model_name": "HTMLModel",
      "_view_count": null,
      "_view_module": "@jupyter-widgets/controls",
      "_view_module_version": "1.5.0",
      "_view_name": "HTMLView",
      "description": "",
      "description_tooltip": null,
      "layout": "IPY_MODEL_657fbd64a04b410da0828f9fb8ab53ed",
      "placeholder": "​",
      "style": "IPY_MODEL_d48cea756a6b4a24b67987693ad6d45e",
      "value": " 26422272/? [00:00&lt;00:00, 64734861.83it/s]"
     }
    },
    "55328a5b60894f7982df1320811ba089": {
     "model_module": "@jupyter-widgets/controls",
     "model_module_version": "1.5.0",
     "model_name": "HBoxModel",
     "state": {
      "_dom_classes": [],
      "_model_module": "@jupyter-widgets/controls",
      "_model_module_version": "1.5.0",
      "_model_name": "HBoxModel",
      "_view_count": null,
      "_view_module": "@jupyter-widgets/controls",
      "_view_module_version": "1.5.0",
      "_view_name": "HBoxView",
      "box_style": "",
      "children": [
       "IPY_MODEL_82041ff781f04117aaca0d73bc9023f0",
       "IPY_MODEL_c293a8ab03004eb5a69e3d697afcfc9a",
       "IPY_MODEL_fb5c8ceb80d54672a60e79e93c90cae1"
      ],
      "layout": "IPY_MODEL_d2b29a4475bd43f58139566bcdfcff85"
     }
    },
    "657fbd64a04b410da0828f9fb8ab53ed": {
     "model_module": "@jupyter-widgets/base",
     "model_module_version": "1.2.0",
     "model_name": "LayoutModel",
     "state": {
      "_model_module": "@jupyter-widgets/base",
      "_model_module_version": "1.2.0",
      "_model_name": "LayoutModel",
      "_view_count": null,
      "_view_module": "@jupyter-widgets/base",
      "_view_module_version": "1.2.0",
      "_view_name": "LayoutView",
      "align_content": null,
      "align_items": null,
      "align_self": null,
      "border": null,
      "bottom": null,
      "display": null,
      "flex": null,
      "flex_flow": null,
      "grid_area": null,
      "grid_auto_columns": null,
      "grid_auto_flow": null,
      "grid_auto_rows": null,
      "grid_column": null,
      "grid_gap": null,
      "grid_row": null,
      "grid_template_areas": null,
      "grid_template_columns": null,
      "grid_template_rows": null,
      "height": null,
      "justify_content": null,
      "justify_items": null,
      "left": null,
      "margin": null,
      "max_height": null,
      "max_width": null,
      "min_height": null,
      "min_width": null,
      "object_fit": null,
      "object_position": null,
      "order": null,
      "overflow": null,
      "overflow_x": null,
      "overflow_y": null,
      "padding": null,
      "right": null,
      "top": null,
      "visibility": null,
      "width": null
     }
    },
    "683939a5a0094603bb295b1d64a129ba": {
     "model_module": "@jupyter-widgets/controls",
     "model_module_version": "1.5.0",
     "model_name": "DescriptionStyleModel",
     "state": {
      "_model_module": "@jupyter-widgets/controls",
      "_model_module_version": "1.5.0",
      "_model_name": "DescriptionStyleModel",
      "_view_count": null,
      "_view_module": "@jupyter-widgets/base",
      "_view_module_version": "1.2.0",
      "_view_name": "StyleView",
      "description_width": ""
     }
    },
    "68f067b067da419fb7a6e17539b343e0": {
     "model_module": "@jupyter-widgets/controls",
     "model_module_version": "1.5.0",
     "model_name": "HTMLModel",
     "state": {
      "_dom_classes": [],
      "_model_module": "@jupyter-widgets/controls",
      "_model_module_version": "1.5.0",
      "_model_name": "HTMLModel",
      "_view_count": null,
      "_view_module": "@jupyter-widgets/controls",
      "_view_module_version": "1.5.0",
      "_view_name": "HTMLView",
      "description": "",
      "description_tooltip": null,
      "layout": "IPY_MODEL_94aefa10f28647289b3d212abc8c7c97",
      "placeholder": "​",
      "style": "IPY_MODEL_683939a5a0094603bb295b1d64a129ba",
      "value": ""
     }
    },
    "734b82f5fd94408ba7a9370e9b2fe7cb": {
     "model_module": "@jupyter-widgets/controls",
     "model_module_version": "1.5.0",
     "model_name": "HTMLModel",
     "state": {
      "_dom_classes": [],
      "_model_module": "@jupyter-widgets/controls",
      "_model_module_version": "1.5.0",
      "_model_name": "HTMLModel",
      "_view_count": null,
      "_view_module": "@jupyter-widgets/controls",
      "_view_module_version": "1.5.0",
      "_view_name": "HTMLView",
      "description": "",
      "description_tooltip": null,
      "layout": "IPY_MODEL_21c8a986abfd4a73908fb38752d45793",
      "placeholder": "​",
      "style": "IPY_MODEL_b68f5aefa758418e8b9e4a232d5f9c43",
      "value": " 6144/? [00:00&lt;00:00, 179308.12it/s]"
     }
    },
    "7aa1a585634242ae8539e2c3b5a7e7b9": {
     "model_module": "@jupyter-widgets/base",
     "model_module_version": "1.2.0",
     "model_name": "LayoutModel",
     "state": {
      "_model_module": "@jupyter-widgets/base",
      "_model_module_version": "1.2.0",
      "_model_name": "LayoutModel",
      "_view_count": null,
      "_view_module": "@jupyter-widgets/base",
      "_view_module_version": "1.2.0",
      "_view_name": "LayoutView",
      "align_content": null,
      "align_items": null,
      "align_self": null,
      "border": null,
      "bottom": null,
      "display": null,
      "flex": null,
      "flex_flow": null,
      "grid_area": null,
      "grid_auto_columns": null,
      "grid_auto_flow": null,
      "grid_auto_rows": null,
      "grid_column": null,
      "grid_gap": null,
      "grid_row": null,
      "grid_template_areas": null,
      "grid_template_columns": null,
      "grid_template_rows": null,
      "height": null,
      "justify_content": null,
      "justify_items": null,
      "left": null,
      "margin": null,
      "max_height": null,
      "max_width": null,
      "min_height": null,
      "min_width": null,
      "object_fit": null,
      "object_position": null,
      "order": null,
      "overflow": null,
      "overflow_x": null,
      "overflow_y": null,
      "padding": null,
      "right": null,
      "top": null,
      "visibility": null,
      "width": null
     }
    },
    "7e88d3876171413dbbe279cecc59dfe7": {
     "model_module": "@jupyter-widgets/controls",
     "model_module_version": "1.5.0",
     "model_name": "ProgressStyleModel",
     "state": {
      "_model_module": "@jupyter-widgets/controls",
      "_model_module_version": "1.5.0",
      "_model_name": "ProgressStyleModel",
      "_view_count": null,
      "_view_module": "@jupyter-widgets/base",
      "_view_module_version": "1.2.0",
      "_view_name": "StyleView",
      "bar_color": null,
      "description_width": ""
     }
    },
    "82041ff781f04117aaca0d73bc9023f0": {
     "model_module": "@jupyter-widgets/controls",
     "model_module_version": "1.5.0",
     "model_name": "HTMLModel",
     "state": {
      "_dom_classes": [],
      "_model_module": "@jupyter-widgets/controls",
      "_model_module_version": "1.5.0",
      "_model_name": "HTMLModel",
      "_view_count": null,
      "_view_module": "@jupyter-widgets/controls",
      "_view_module_version": "1.5.0",
      "_view_name": "HTMLView",
      "description": "",
      "description_tooltip": null,
      "layout": "IPY_MODEL_8d1367202d774837928c4d7cfa2dba5b",
      "placeholder": "​",
      "style": "IPY_MODEL_dd96a6743dc24461aa53f8c30be11693",
      "value": ""
     }
    },
    "8399095506464a2c8f4d0e92ca0990f7": {
     "model_module": "@jupyter-widgets/base",
     "model_module_version": "1.2.0",
     "model_name": "LayoutModel",
     "state": {
      "_model_module": "@jupyter-widgets/base",
      "_model_module_version": "1.2.0",
      "_model_name": "LayoutModel",
      "_view_count": null,
      "_view_module": "@jupyter-widgets/base",
      "_view_module_version": "1.2.0",
      "_view_name": "LayoutView",
      "align_content": null,
      "align_items": null,
      "align_self": null,
      "border": null,
      "bottom": null,
      "display": null,
      "flex": null,
      "flex_flow": null,
      "grid_area": null,
      "grid_auto_columns": null,
      "grid_auto_flow": null,
      "grid_auto_rows": null,
      "grid_column": null,
      "grid_gap": null,
      "grid_row": null,
      "grid_template_areas": null,
      "grid_template_columns": null,
      "grid_template_rows": null,
      "height": null,
      "justify_content": null,
      "justify_items": null,
      "left": null,
      "margin": null,
      "max_height": null,
      "max_width": null,
      "min_height": null,
      "min_width": null,
      "object_fit": null,
      "object_position": null,
      "order": null,
      "overflow": null,
      "overflow_x": null,
      "overflow_y": null,
      "padding": null,
      "right": null,
      "top": null,
      "visibility": null,
      "width": null
     }
    },
    "8775755111b141748afc839d84b13b7b": {
     "model_module": "@jupyter-widgets/controls",
     "model_module_version": "1.5.0",
     "model_name": "ProgressStyleModel",
     "state": {
      "_model_module": "@jupyter-widgets/controls",
      "_model_module_version": "1.5.0",
      "_model_name": "ProgressStyleModel",
      "_view_count": null,
      "_view_module": "@jupyter-widgets/base",
      "_view_module_version": "1.2.0",
      "_view_name": "StyleView",
      "bar_color": null,
      "description_width": ""
     }
    },
    "8afdf00f07b54097895cc339f88806b8": {
     "model_module": "@jupyter-widgets/controls",
     "model_module_version": "1.5.0",
     "model_name": "DescriptionStyleModel",
     "state": {
      "_model_module": "@jupyter-widgets/controls",
      "_model_module_version": "1.5.0",
      "_model_name": "DescriptionStyleModel",
      "_view_count": null,
      "_view_module": "@jupyter-widgets/base",
      "_view_module_version": "1.2.0",
      "_view_name": "StyleView",
      "description_width": ""
     }
    },
    "8d1367202d774837928c4d7cfa2dba5b": {
     "model_module": "@jupyter-widgets/base",
     "model_module_version": "1.2.0",
     "model_name": "LayoutModel",
     "state": {
      "_model_module": "@jupyter-widgets/base",
      "_model_module_version": "1.2.0",
      "_model_name": "LayoutModel",
      "_view_count": null,
      "_view_module": "@jupyter-widgets/base",
      "_view_module_version": "1.2.0",
      "_view_name": "LayoutView",
      "align_content": null,
      "align_items": null,
      "align_self": null,
      "border": null,
      "bottom": null,
      "display": null,
      "flex": null,
      "flex_flow": null,
      "grid_area": null,
      "grid_auto_columns": null,
      "grid_auto_flow": null,
      "grid_auto_rows": null,
      "grid_column": null,
      "grid_gap": null,
      "grid_row": null,
      "grid_template_areas": null,
      "grid_template_columns": null,
      "grid_template_rows": null,
      "height": null,
      "justify_content": null,
      "justify_items": null,
      "left": null,
      "margin": null,
      "max_height": null,
      "max_width": null,
      "min_height": null,
      "min_width": null,
      "object_fit": null,
      "object_position": null,
      "order": null,
      "overflow": null,
      "overflow_x": null,
      "overflow_y": null,
      "padding": null,
      "right": null,
      "top": null,
      "visibility": null,
      "width": null
     }
    },
    "8eff0c930e0a4031a1cf1790093062db": {
     "model_module": "@jupyter-widgets/base",
     "model_module_version": "1.2.0",
     "model_name": "LayoutModel",
     "state": {
      "_model_module": "@jupyter-widgets/base",
      "_model_module_version": "1.2.0",
      "_model_name": "LayoutModel",
      "_view_count": null,
      "_view_module": "@jupyter-widgets/base",
      "_view_module_version": "1.2.0",
      "_view_name": "LayoutView",
      "align_content": null,
      "align_items": null,
      "align_self": null,
      "border": null,
      "bottom": null,
      "display": null,
      "flex": null,
      "flex_flow": null,
      "grid_area": null,
      "grid_auto_columns": null,
      "grid_auto_flow": null,
      "grid_auto_rows": null,
      "grid_column": null,
      "grid_gap": null,
      "grid_row": null,
      "grid_template_areas": null,
      "grid_template_columns": null,
      "grid_template_rows": null,
      "height": null,
      "justify_content": null,
      "justify_items": null,
      "left": null,
      "margin": null,
      "max_height": null,
      "max_width": null,
      "min_height": null,
      "min_width": null,
      "object_fit": null,
      "object_position": null,
      "order": null,
      "overflow": null,
      "overflow_x": null,
      "overflow_y": null,
      "padding": null,
      "right": null,
      "top": null,
      "visibility": null,
      "width": null
     }
    },
    "94aefa10f28647289b3d212abc8c7c97": {
     "model_module": "@jupyter-widgets/base",
     "model_module_version": "1.2.0",
     "model_name": "LayoutModel",
     "state": {
      "_model_module": "@jupyter-widgets/base",
      "_model_module_version": "1.2.0",
      "_model_name": "LayoutModel",
      "_view_count": null,
      "_view_module": "@jupyter-widgets/base",
      "_view_module_version": "1.2.0",
      "_view_name": "LayoutView",
      "align_content": null,
      "align_items": null,
      "align_self": null,
      "border": null,
      "bottom": null,
      "display": null,
      "flex": null,
      "flex_flow": null,
      "grid_area": null,
      "grid_auto_columns": null,
      "grid_auto_flow": null,
      "grid_auto_rows": null,
      "grid_column": null,
      "grid_gap": null,
      "grid_row": null,
      "grid_template_areas": null,
      "grid_template_columns": null,
      "grid_template_rows": null,
      "height": null,
      "justify_content": null,
      "justify_items": null,
      "left": null,
      "margin": null,
      "max_height": null,
      "max_width": null,
      "min_height": null,
      "min_width": null,
      "object_fit": null,
      "object_position": null,
      "order": null,
      "overflow": null,
      "overflow_x": null,
      "overflow_y": null,
      "padding": null,
      "right": null,
      "top": null,
      "visibility": null,
      "width": null
     }
    },
    "a0c59657408a42249c945e9a14de27fd": {
     "model_module": "@jupyter-widgets/base",
     "model_module_version": "1.2.0",
     "model_name": "LayoutModel",
     "state": {
      "_model_module": "@jupyter-widgets/base",
      "_model_module_version": "1.2.0",
      "_model_name": "LayoutModel",
      "_view_count": null,
      "_view_module": "@jupyter-widgets/base",
      "_view_module_version": "1.2.0",
      "_view_name": "LayoutView",
      "align_content": null,
      "align_items": null,
      "align_self": null,
      "border": null,
      "bottom": null,
      "display": null,
      "flex": null,
      "flex_flow": null,
      "grid_area": null,
      "grid_auto_columns": null,
      "grid_auto_flow": null,
      "grid_auto_rows": null,
      "grid_column": null,
      "grid_gap": null,
      "grid_row": null,
      "grid_template_areas": null,
      "grid_template_columns": null,
      "grid_template_rows": null,
      "height": null,
      "justify_content": null,
      "justify_items": null,
      "left": null,
      "margin": null,
      "max_height": null,
      "max_width": null,
      "min_height": null,
      "min_width": null,
      "object_fit": null,
      "object_position": null,
      "order": null,
      "overflow": null,
      "overflow_x": null,
      "overflow_y": null,
      "padding": null,
      "right": null,
      "top": null,
      "visibility": null,
      "width": null
     }
    },
    "a12d2f5cc4e14f60b8e7905f5729d421": {
     "model_module": "@jupyter-widgets/base",
     "model_module_version": "1.2.0",
     "model_name": "LayoutModel",
     "state": {
      "_model_module": "@jupyter-widgets/base",
      "_model_module_version": "1.2.0",
      "_model_name": "LayoutModel",
      "_view_count": null,
      "_view_module": "@jupyter-widgets/base",
      "_view_module_version": "1.2.0",
      "_view_name": "LayoutView",
      "align_content": null,
      "align_items": null,
      "align_self": null,
      "border": null,
      "bottom": null,
      "display": null,
      "flex": null,
      "flex_flow": null,
      "grid_area": null,
      "grid_auto_columns": null,
      "grid_auto_flow": null,
      "grid_auto_rows": null,
      "grid_column": null,
      "grid_gap": null,
      "grid_row": null,
      "grid_template_areas": null,
      "grid_template_columns": null,
      "grid_template_rows": null,
      "height": null,
      "justify_content": null,
      "justify_items": null,
      "left": null,
      "margin": null,
      "max_height": null,
      "max_width": null,
      "min_height": null,
      "min_width": null,
      "object_fit": null,
      "object_position": null,
      "order": null,
      "overflow": null,
      "overflow_x": null,
      "overflow_y": null,
      "padding": null,
      "right": null,
      "top": null,
      "visibility": null,
      "width": null
     }
    },
    "a475bc11bfd74a23aa5e3e04b83182e5": {
     "model_module": "@jupyter-widgets/controls",
     "model_module_version": "1.5.0",
     "model_name": "HBoxModel",
     "state": {
      "_dom_classes": [],
      "_model_module": "@jupyter-widgets/controls",
      "_model_module_version": "1.5.0",
      "_model_name": "HBoxModel",
      "_view_count": null,
      "_view_module": "@jupyter-widgets/controls",
      "_view_module_version": "1.5.0",
      "_view_name": "HBoxView",
      "box_style": "",
      "children": [
       "IPY_MODEL_c699d6493cf34894a87648d77684ee15",
       "IPY_MODEL_d2c17132e05c4118849684fbe60678ee",
       "IPY_MODEL_371b417f1e964be2934fb7fdd6d34f48"
      ],
      "layout": "IPY_MODEL_7aa1a585634242ae8539e2c3b5a7e7b9"
     }
    },
    "a625a3a5f8654af5969da9921e7e2b01": {
     "model_module": "@jupyter-widgets/controls",
     "model_module_version": "1.5.0",
     "model_name": "FloatProgressModel",
     "state": {
      "_dom_classes": [],
      "_model_module": "@jupyter-widgets/controls",
      "_model_module_version": "1.5.0",
      "_model_name": "FloatProgressModel",
      "_view_count": null,
      "_view_module": "@jupyter-widgets/controls",
      "_view_module_version": "1.5.0",
      "_view_name": "ProgressView",
      "bar_style": "success",
      "description": "",
      "description_tooltip": null,
      "layout": "IPY_MODEL_fd84220398984159a63921e2875615fa",
      "max": 4422102,
      "min": 0,
      "orientation": "horizontal",
      "style": "IPY_MODEL_7e88d3876171413dbbe279cecc59dfe7",
      "value": 4422102
     }
    },
    "ac82243e587241358668ce8f105811a2": {
     "model_module": "@jupyter-widgets/controls",
     "model_module_version": "1.5.0",
     "model_name": "DescriptionStyleModel",
     "state": {
      "_model_module": "@jupyter-widgets/controls",
      "_model_module_version": "1.5.0",
      "_model_name": "DescriptionStyleModel",
      "_view_count": null,
      "_view_module": "@jupyter-widgets/base",
      "_view_module_version": "1.2.0",
      "_view_name": "StyleView",
      "description_width": ""
     }
    },
    "b68f5aefa758418e8b9e4a232d5f9c43": {
     "model_module": "@jupyter-widgets/controls",
     "model_module_version": "1.5.0",
     "model_name": "DescriptionStyleModel",
     "state": {
      "_model_module": "@jupyter-widgets/controls",
      "_model_module_version": "1.5.0",
      "_model_name": "DescriptionStyleModel",
      "_view_count": null,
      "_view_module": "@jupyter-widgets/base",
      "_view_module_version": "1.2.0",
      "_view_name": "StyleView",
      "description_width": ""
     }
    },
    "c293a8ab03004eb5a69e3d697afcfc9a": {
     "model_module": "@jupyter-widgets/controls",
     "model_module_version": "1.5.0",
     "model_name": "FloatProgressModel",
     "state": {
      "_dom_classes": [],
      "_model_module": "@jupyter-widgets/controls",
      "_model_module_version": "1.5.0",
      "_model_name": "FloatProgressModel",
      "_view_count": null,
      "_view_module": "@jupyter-widgets/controls",
      "_view_module_version": "1.5.0",
      "_view_name": "ProgressView",
      "bar_style": "success",
      "description": "",
      "description_tooltip": null,
      "layout": "IPY_MODEL_1625cf664a994cce893eefe6a77d0c7e",
      "max": 29515,
      "min": 0,
      "orientation": "horizontal",
      "style": "IPY_MODEL_8775755111b141748afc839d84b13b7b",
      "value": 29515
     }
    },
    "c4b9ac6759184c069b445f5618e61bfc": {
     "model_module": "@jupyter-widgets/controls",
     "model_module_version": "1.5.0",
     "model_name": "FloatProgressModel",
     "state": {
      "_dom_classes": [],
      "_model_module": "@jupyter-widgets/controls",
      "_model_module_version": "1.5.0",
      "_model_name": "FloatProgressModel",
      "_view_count": null,
      "_view_module": "@jupyter-widgets/controls",
      "_view_module_version": "1.5.0",
      "_view_name": "ProgressView",
      "bar_style": "success",
      "description": "",
      "description_tooltip": null,
      "layout": "IPY_MODEL_e8d84e1e46a74a81be60b0d7ab734486",
      "max": 5148,
      "min": 0,
      "orientation": "horizontal",
      "style": "IPY_MODEL_0b6b2015a89a4e69818ba9a08d6791dd",
      "value": 5148
     }
    },
    "c699d6493cf34894a87648d77684ee15": {
     "model_module": "@jupyter-widgets/controls",
     "model_module_version": "1.5.0",
     "model_name": "HTMLModel",
     "state": {
      "_dom_classes": [],
      "_model_module": "@jupyter-widgets/controls",
      "_model_module_version": "1.5.0",
      "_model_name": "HTMLModel",
      "_view_count": null,
      "_view_module": "@jupyter-widgets/controls",
      "_view_module_version": "1.5.0",
      "_view_name": "HTMLView",
      "description": "",
      "description_tooltip": null,
      "layout": "IPY_MODEL_8399095506464a2c8f4d0e92ca0990f7",
      "placeholder": "​",
      "style": "IPY_MODEL_f1ae11030bd54ca7bd5e97be05bf355f",
      "value": ""
     }
    },
    "cdc683c3770f4982980fcec0cba7dd6e": {
     "model_module": "@jupyter-widgets/controls",
     "model_module_version": "1.5.0",
     "model_name": "DescriptionStyleModel",
     "state": {
      "_model_module": "@jupyter-widgets/controls",
      "_model_module_version": "1.5.0",
      "_model_name": "DescriptionStyleModel",
      "_view_count": null,
      "_view_module": "@jupyter-widgets/base",
      "_view_module_version": "1.2.0",
      "_view_name": "StyleView",
      "description_width": ""
     }
    },
    "cf5dee1339a545edb6823acbcc3f3c73": {
     "model_module": "@jupyter-widgets/controls",
     "model_module_version": "1.5.0",
     "model_name": "HBoxModel",
     "state": {
      "_dom_classes": [],
      "_model_module": "@jupyter-widgets/controls",
      "_model_module_version": "1.5.0",
      "_model_name": "HBoxModel",
      "_view_count": null,
      "_view_module": "@jupyter-widgets/controls",
      "_view_module_version": "1.5.0",
      "_view_name": "HBoxView",
      "box_style": "",
      "children": [
       "IPY_MODEL_fec14076d62e4818bd2756bea3740388",
       "IPY_MODEL_c4b9ac6759184c069b445f5618e61bfc",
       "IPY_MODEL_734b82f5fd94408ba7a9370e9b2fe7cb"
      ],
      "layout": "IPY_MODEL_0c9eedfbbd2247f4823290cbf757e6ad"
     }
    },
    "d2b29a4475bd43f58139566bcdfcff85": {
     "model_module": "@jupyter-widgets/base",
     "model_module_version": "1.2.0",
     "model_name": "LayoutModel",
     "state": {
      "_model_module": "@jupyter-widgets/base",
      "_model_module_version": "1.2.0",
      "_model_name": "LayoutModel",
      "_view_count": null,
      "_view_module": "@jupyter-widgets/base",
      "_view_module_version": "1.2.0",
      "_view_name": "LayoutView",
      "align_content": null,
      "align_items": null,
      "align_self": null,
      "border": null,
      "bottom": null,
      "display": null,
      "flex": null,
      "flex_flow": null,
      "grid_area": null,
      "grid_auto_columns": null,
      "grid_auto_flow": null,
      "grid_auto_rows": null,
      "grid_column": null,
      "grid_gap": null,
      "grid_row": null,
      "grid_template_areas": null,
      "grid_template_columns": null,
      "grid_template_rows": null,
      "height": null,
      "justify_content": null,
      "justify_items": null,
      "left": null,
      "margin": null,
      "max_height": null,
      "max_width": null,
      "min_height": null,
      "min_width": null,
      "object_fit": null,
      "object_position": null,
      "order": null,
      "overflow": null,
      "overflow_x": null,
      "overflow_y": null,
      "padding": null,
      "right": null,
      "top": null,
      "visibility": null,
      "width": null
     }
    },
    "d2c17132e05c4118849684fbe60678ee": {
     "model_module": "@jupyter-widgets/controls",
     "model_module_version": "1.5.0",
     "model_name": "FloatProgressModel",
     "state": {
      "_dom_classes": [],
      "_model_module": "@jupyter-widgets/controls",
      "_model_module_version": "1.5.0",
      "_model_name": "FloatProgressModel",
      "_view_count": null,
      "_view_module": "@jupyter-widgets/controls",
      "_view_module_version": "1.5.0",
      "_view_name": "ProgressView",
      "bar_style": "success",
      "description": "",
      "description_tooltip": null,
      "layout": "IPY_MODEL_a0c59657408a42249c945e9a14de27fd",
      "max": 26421880,
      "min": 0,
      "orientation": "horizontal",
      "style": "IPY_MODEL_dbb69e0c983b4c929d74ef2683b9882b",
      "value": 26421880
     }
    },
    "d48cea756a6b4a24b67987693ad6d45e": {
     "model_module": "@jupyter-widgets/controls",
     "model_module_version": "1.5.0",
     "model_name": "DescriptionStyleModel",
     "state": {
      "_model_module": "@jupyter-widgets/controls",
      "_model_module_version": "1.5.0",
      "_model_name": "DescriptionStyleModel",
      "_view_count": null,
      "_view_module": "@jupyter-widgets/base",
      "_view_module_version": "1.2.0",
      "_view_name": "StyleView",
      "description_width": ""
     }
    },
    "dbb69e0c983b4c929d74ef2683b9882b": {
     "model_module": "@jupyter-widgets/controls",
     "model_module_version": "1.5.0",
     "model_name": "ProgressStyleModel",
     "state": {
      "_model_module": "@jupyter-widgets/controls",
      "_model_module_version": "1.5.0",
      "_model_name": "ProgressStyleModel",
      "_view_count": null,
      "_view_module": "@jupyter-widgets/base",
      "_view_module_version": "1.2.0",
      "_view_name": "StyleView",
      "bar_color": null,
      "description_width": ""
     }
    },
    "dd96a6743dc24461aa53f8c30be11693": {
     "model_module": "@jupyter-widgets/controls",
     "model_module_version": "1.5.0",
     "model_name": "DescriptionStyleModel",
     "state": {
      "_model_module": "@jupyter-widgets/controls",
      "_model_module_version": "1.5.0",
      "_model_name": "DescriptionStyleModel",
      "_view_count": null,
      "_view_module": "@jupyter-widgets/base",
      "_view_module_version": "1.2.0",
      "_view_name": "StyleView",
      "description_width": ""
     }
    },
    "e8d84e1e46a74a81be60b0d7ab734486": {
     "model_module": "@jupyter-widgets/base",
     "model_module_version": "1.2.0",
     "model_name": "LayoutModel",
     "state": {
      "_model_module": "@jupyter-widgets/base",
      "_model_module_version": "1.2.0",
      "_model_name": "LayoutModel",
      "_view_count": null,
      "_view_module": "@jupyter-widgets/base",
      "_view_module_version": "1.2.0",
      "_view_name": "LayoutView",
      "align_content": null,
      "align_items": null,
      "align_self": null,
      "border": null,
      "bottom": null,
      "display": null,
      "flex": null,
      "flex_flow": null,
      "grid_area": null,
      "grid_auto_columns": null,
      "grid_auto_flow": null,
      "grid_auto_rows": null,
      "grid_column": null,
      "grid_gap": null,
      "grid_row": null,
      "grid_template_areas": null,
      "grid_template_columns": null,
      "grid_template_rows": null,
      "height": null,
      "justify_content": null,
      "justify_items": null,
      "left": null,
      "margin": null,
      "max_height": null,
      "max_width": null,
      "min_height": null,
      "min_width": null,
      "object_fit": null,
      "object_position": null,
      "order": null,
      "overflow": null,
      "overflow_x": null,
      "overflow_y": null,
      "padding": null,
      "right": null,
      "top": null,
      "visibility": null,
      "width": null
     }
    },
    "eb7a55e463c746ad977588d20afbd739": {
     "model_module": "@jupyter-widgets/base",
     "model_module_version": "1.2.0",
     "model_name": "LayoutModel",
     "state": {
      "_model_module": "@jupyter-widgets/base",
      "_model_module_version": "1.2.0",
      "_model_name": "LayoutModel",
      "_view_count": null,
      "_view_module": "@jupyter-widgets/base",
      "_view_module_version": "1.2.0",
      "_view_name": "LayoutView",
      "align_content": null,
      "align_items": null,
      "align_self": null,
      "border": null,
      "bottom": null,
      "display": null,
      "flex": null,
      "flex_flow": null,
      "grid_area": null,
      "grid_auto_columns": null,
      "grid_auto_flow": null,
      "grid_auto_rows": null,
      "grid_column": null,
      "grid_gap": null,
      "grid_row": null,
      "grid_template_areas": null,
      "grid_template_columns": null,
      "grid_template_rows": null,
      "height": null,
      "justify_content": null,
      "justify_items": null,
      "left": null,
      "margin": null,
      "max_height": null,
      "max_width": null,
      "min_height": null,
      "min_width": null,
      "object_fit": null,
      "object_position": null,
      "order": null,
      "overflow": null,
      "overflow_x": null,
      "overflow_y": null,
      "padding": null,
      "right": null,
      "top": null,
      "visibility": null,
      "width": null
     }
    },
    "f1ae11030bd54ca7bd5e97be05bf355f": {
     "model_module": "@jupyter-widgets/controls",
     "model_module_version": "1.5.0",
     "model_name": "DescriptionStyleModel",
     "state": {
      "_model_module": "@jupyter-widgets/controls",
      "_model_module_version": "1.5.0",
      "_model_name": "DescriptionStyleModel",
      "_view_count": null,
      "_view_module": "@jupyter-widgets/base",
      "_view_module_version": "1.2.0",
      "_view_name": "StyleView",
      "description_width": ""
     }
    },
    "fb5c8ceb80d54672a60e79e93c90cae1": {
     "model_module": "@jupyter-widgets/controls",
     "model_module_version": "1.5.0",
     "model_name": "HTMLModel",
     "state": {
      "_dom_classes": [],
      "_model_module": "@jupyter-widgets/controls",
      "_model_module_version": "1.5.0",
      "_model_name": "HTMLModel",
      "_view_count": null,
      "_view_module": "@jupyter-widgets/controls",
      "_view_module_version": "1.5.0",
      "_view_name": "HTMLView",
      "description": "",
      "description_tooltip": null,
      "layout": "IPY_MODEL_eb7a55e463c746ad977588d20afbd739",
      "placeholder": "​",
      "style": "IPY_MODEL_8afdf00f07b54097895cc339f88806b8",
      "value": " 29696/? [00:00&lt;00:00, 568545.25it/s]"
     }
    },
    "fd84220398984159a63921e2875615fa": {
     "model_module": "@jupyter-widgets/base",
     "model_module_version": "1.2.0",
     "model_name": "LayoutModel",
     "state": {
      "_model_module": "@jupyter-widgets/base",
      "_model_module_version": "1.2.0",
      "_model_name": "LayoutModel",
      "_view_count": null,
      "_view_module": "@jupyter-widgets/base",
      "_view_module_version": "1.2.0",
      "_view_name": "LayoutView",
      "align_content": null,
      "align_items": null,
      "align_self": null,
      "border": null,
      "bottom": null,
      "display": null,
      "flex": null,
      "flex_flow": null,
      "grid_area": null,
      "grid_auto_columns": null,
      "grid_auto_flow": null,
      "grid_auto_rows": null,
      "grid_column": null,
      "grid_gap": null,
      "grid_row": null,
      "grid_template_areas": null,
      "grid_template_columns": null,
      "grid_template_rows": null,
      "height": null,
      "justify_content": null,
      "justify_items": null,
      "left": null,
      "margin": null,
      "max_height": null,
      "max_width": null,
      "min_height": null,
      "min_width": null,
      "object_fit": null,
      "object_position": null,
      "order": null,
      "overflow": null,
      "overflow_x": null,
      "overflow_y": null,
      "padding": null,
      "right": null,
      "top": null,
      "visibility": null,
      "width": null
     }
    },
    "fec14076d62e4818bd2756bea3740388": {
     "model_module": "@jupyter-widgets/controls",
     "model_module_version": "1.5.0",
     "model_name": "HTMLModel",
     "state": {
      "_dom_classes": [],
      "_model_module": "@jupyter-widgets/controls",
      "_model_module_version": "1.5.0",
      "_model_name": "HTMLModel",
      "_view_count": null,
      "_view_module": "@jupyter-widgets/controls",
      "_view_module_version": "1.5.0",
      "_view_name": "HTMLView",
      "description": "",
      "description_tooltip": null,
      "layout": "IPY_MODEL_a12d2f5cc4e14f60b8e7905f5729d421",
      "placeholder": "​",
      "style": "IPY_MODEL_cdc683c3770f4982980fcec0cba7dd6e",
      "value": ""
     }
    },
    "ff4abd6b83b14f62b6ccce00ba9e218c": {
     "model_module": "@jupyter-widgets/base",
     "model_module_version": "1.2.0",
     "model_name": "LayoutModel",
     "state": {
      "_model_module": "@jupyter-widgets/base",
      "_model_module_version": "1.2.0",
      "_model_name": "LayoutModel",
      "_view_count": null,
      "_view_module": "@jupyter-widgets/base",
      "_view_module_version": "1.2.0",
      "_view_name": "LayoutView",
      "align_content": null,
      "align_items": null,
      "align_self": null,
      "border": null,
      "bottom": null,
      "display": null,
      "flex": null,
      "flex_flow": null,
      "grid_area": null,
      "grid_auto_columns": null,
      "grid_auto_flow": null,
      "grid_auto_rows": null,
      "grid_column": null,
      "grid_gap": null,
      "grid_row": null,
      "grid_template_areas": null,
      "grid_template_columns": null,
      "grid_template_rows": null,
      "height": null,
      "justify_content": null,
      "justify_items": null,
      "left": null,
      "margin": null,
      "max_height": null,
      "max_width": null,
      "min_height": null,
      "min_width": null,
      "object_fit": null,
      "object_position": null,
      "order": null,
      "overflow": null,
      "overflow_x": null,
      "overflow_y": null,
      "padding": null,
      "right": null,
      "top": null,
      "visibility": null,
      "width": null
     }
    }
   }
  }
 },
 "nbformat": 4,
 "nbformat_minor": 1
}
